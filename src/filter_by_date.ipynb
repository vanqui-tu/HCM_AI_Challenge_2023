{
 "cells": [
  {
   "cell_type": "code",
   "execution_count": null,
   "metadata": {},
   "outputs": [],
   "source": [
    "import os\n",
    "import json\n",
    "import numpy as np\n",
    "from datetime import datetime"
   ]
  },
  {
   "cell_type": "code",
   "execution_count": null,
   "metadata": {},
   "outputs": [],
   "source": [
    "FEATURE_PATH = \"./Data/clip-features-b32\"\n",
    "METADATA_PATH = \"./Data/metadata\""
   ]
  },
  {
   "cell_type": "code",
   "execution_count": null,
   "metadata": {},
   "outputs": [],
   "source": [
    "# FORMAT: d/m/y\n",
    "start_date = \"5/10/2020\"\n",
    "end_date = \"7/12/2022\""
   ]
  },
  {
   "cell_type": "code",
   "execution_count": null,
   "metadata": {},
   "outputs": [],
   "source": [
    "start_obj = datetime.strptime(start_date, \"%d/%m/%Y\")\n",
    "end_obj = datetime.strptime(end_date, \"%d/%m/%Y\")"
   ]
  },
  {
   "cell_type": "code",
   "execution_count": null,
   "metadata": {},
   "outputs": [],
   "source": [
    "list_file = os.listdir(METADATA_PATH)"
   ]
  },
  {
   "cell_type": "code",
   "execution_count": null,
   "metadata": {},
   "outputs": [],
   "source": [
    "video_list = []\n",
    "for file in list_file:\n",
    "    file_path = os.path.join(METADATA_PATH, file)\n",
    "    with open(file_path) as f:\n",
    "        data = json.load(f)\n",
    "    publish_date = datetime.strptime(data['publish_date'], \"%d/%m/%Y\")\n",
    "    if publish_date >= start_obj and publish_date <= end_obj:\n",
    "        video_list.append(file.replace(\".json\",''))"
   ]
  },
  {
   "cell_type": "code",
   "execution_count": null,
   "metadata": {},
   "outputs": [],
   "source": [
    "features_vector = []\n",
    "for video in video_list:\n",
    "    feature_path = os.path.join(FEATURE_PATH, video + \".npy\")\n",
    "    features = np.load(feature_path)\n",
    "    print(features.shape)\n",
    "    features_vector.append(features)"
   ]
  },
  {
   "cell_type": "code",
   "execution_count": null,
   "metadata": {},
   "outputs": [],
   "source": [
    "features_vector"
   ]
  },
  {
   "cell_type": "code",
   "execution_count": null,
   "metadata": {},
   "outputs": [],
   "source": []
  }
 ],
 "metadata": {
  "kernelspec": {
   "display_name": "Python 3",
   "language": "python",
   "name": "python3"
  },
  "language_info": {
   "codemirror_mode": {
    "name": "ipython",
    "version": 3
   },
   "file_extension": ".py",
   "mimetype": "text/x-python",
   "name": "python",
   "nbconvert_exporter": "python",
   "pygments_lexer": "ipython3",
   "version": "3.7.3"
  }
 },
 "nbformat": 4,
 "nbformat_minor": 5
}
