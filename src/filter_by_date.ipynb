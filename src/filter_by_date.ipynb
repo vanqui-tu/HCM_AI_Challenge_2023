{
 "cells": [
  {
   "cell_type": "code",
   "execution_count": 1,
   "metadata": {},
   "outputs": [],
   "source": [
    "import os\n",
    "import json\n",
    "import numpy as np\n",
    "from datetime import datetime"
   ]
  },
  {
   "cell_type": "code",
   "execution_count": 9,
   "metadata": {},
   "outputs": [],
   "source": [
    "FEATURE_PATH = \"../data/feat\"\n",
    "METADATA_PATH = \"../data/metadata\""
   ]
  },
  {
   "cell_type": "code",
   "execution_count": 3,
   "metadata": {},
   "outputs": [],
   "source": [
    "# FORMAT: d/m/y\n",
    "start_date = \"5/10/2020\"\n",
    "end_date = \"7/12/2022\""
   ]
  },
  {
   "cell_type": "code",
   "execution_count": 4,
   "metadata": {},
   "outputs": [],
   "source": [
    "start_obj = datetime.strptime(start_date, \"%d/%m/%Y\")\n",
    "end_obj = datetime.strptime(end_date, \"%d/%m/%Y\")"
   ]
  },
  {
   "cell_type": "code",
   "execution_count": 11,
   "metadata": {},
   "outputs": [],
   "source": [
    "list_file = os.listdir(METADATA_PATH)"
   ]
  },
  {
   "cell_type": "code",
   "execution_count": 13,
   "metadata": {},
   "outputs": [],
   "source": [
    "video_list = []\n",
    "for file in list_file:\n",
    "    if file.endswith(\".json\"):\n",
    "        file_path = os.path.join(METADATA_PATH, file)\n",
    "        with open(file_path) as f:\n",
    "            data = json.load(f)\n",
    "        publish_date = datetime.strptime(data['publish_date'], \"%d/%m/%Y\")\n",
    "        if publish_date >= start_obj and publish_date <= end_obj:\n",
    "            video_list.append(file.replace(\".json\",''))"
   ]
  },
  {
   "cell_type": "code",
   "execution_count": 14,
   "metadata": {},
   "outputs": [
    {
     "ename": "FileNotFoundError",
     "evalue": "[Errno 2] No such file or directory: '../data/clip-features-b32\\\\L01_V001.npy'",
     "output_type": "error",
     "traceback": [
      "\u001b[1;31m---------------------------------------------------------------------------\u001b[0m",
      "\u001b[1;31mFileNotFoundError\u001b[0m                         Traceback (most recent call last)",
      "\u001b[1;32md:\\Contest\\HCM_AI_Challenge_2023\\src\\filter_by_date.ipynb Cell 7\u001b[0m line \u001b[0;36m4\n\u001b[0;32m      <a href='vscode-notebook-cell:/d%3A/Contest/HCM_AI_Challenge_2023/src/filter_by_date.ipynb#W6sZmlsZQ%3D%3D?line=1'>2</a>\u001b[0m \u001b[39mfor\u001b[39;00m video \u001b[39min\u001b[39;00m video_list:\n\u001b[0;32m      <a href='vscode-notebook-cell:/d%3A/Contest/HCM_AI_Challenge_2023/src/filter_by_date.ipynb#W6sZmlsZQ%3D%3D?line=2'>3</a>\u001b[0m     feature_path \u001b[39m=\u001b[39m os\u001b[39m.\u001b[39mpath\u001b[39m.\u001b[39mjoin(FEATURE_PATH, video \u001b[39m+\u001b[39m \u001b[39m\"\u001b[39m\u001b[39m.npy\u001b[39m\u001b[39m\"\u001b[39m)\n\u001b[1;32m----> <a href='vscode-notebook-cell:/d%3A/Contest/HCM_AI_Challenge_2023/src/filter_by_date.ipynb#W6sZmlsZQ%3D%3D?line=3'>4</a>\u001b[0m     features \u001b[39m=\u001b[39m np\u001b[39m.\u001b[39;49mload(feature_path)\n\u001b[0;32m      <a href='vscode-notebook-cell:/d%3A/Contest/HCM_AI_Challenge_2023/src/filter_by_date.ipynb#W6sZmlsZQ%3D%3D?line=4'>5</a>\u001b[0m     \u001b[39mprint\u001b[39m(features\u001b[39m.\u001b[39mshape)\n\u001b[0;32m      <a href='vscode-notebook-cell:/d%3A/Contest/HCM_AI_Challenge_2023/src/filter_by_date.ipynb#W6sZmlsZQ%3D%3D?line=5'>6</a>\u001b[0m     features_vector\u001b[39m.\u001b[39mappend(features)\n",
      "File \u001b[1;32mc:\\Users\\pmini\\miniconda3\\envs\\aic23\\lib\\site-packages\\numpy\\lib\\npyio.py:427\u001b[0m, in \u001b[0;36mload\u001b[1;34m(file, mmap_mode, allow_pickle, fix_imports, encoding, max_header_size)\u001b[0m\n\u001b[0;32m    425\u001b[0m     own_fid \u001b[39m=\u001b[39m \u001b[39mFalse\u001b[39;00m\n\u001b[0;32m    426\u001b[0m \u001b[39melse\u001b[39;00m:\n\u001b[1;32m--> 427\u001b[0m     fid \u001b[39m=\u001b[39m stack\u001b[39m.\u001b[39menter_context(\u001b[39mopen\u001b[39;49m(os_fspath(file), \u001b[39m\"\u001b[39;49m\u001b[39mrb\u001b[39;49m\u001b[39m\"\u001b[39;49m))\n\u001b[0;32m    428\u001b[0m     own_fid \u001b[39m=\u001b[39m \u001b[39mTrue\u001b[39;00m\n\u001b[0;32m    430\u001b[0m \u001b[39m# Code to distinguish from NumPy binary files and pickles.\u001b[39;00m\n",
      "\u001b[1;31mFileNotFoundError\u001b[0m: [Errno 2] No such file or directory: '../data/clip-features-b32\\\\L01_V001.npy'"
     ]
    }
   ],
   "source": [
    "features_vector = []\n",
    "for video in video_list:\n",
    "    feature_path = os.path.join(FEATURE_PATH, video + \".npy\")\n",
    "    features = np.load(feature_path)\n",
    "    print(features.shape)\n",
    "    features_vector.append(features)"
   ]
  },
  {
   "cell_type": "code",
   "execution_count": null,
   "metadata": {},
   "outputs": [],
   "source": [
    "features_vector"
   ]
  },
  {
   "cell_type": "code",
   "execution_count": null,
   "metadata": {},
   "outputs": [],
   "source": []
  }
 ],
 "metadata": {
  "kernelspec": {
   "display_name": "Python 3",
   "language": "python",
   "name": "python3"
  },
  "language_info": {
   "codemirror_mode": {
    "name": "ipython",
    "version": 3
   },
   "file_extension": ".py",
   "mimetype": "text/x-python",
   "name": "python",
   "nbconvert_exporter": "python",
   "pygments_lexer": "ipython3",
   "version": "3.10.9"
  }
 },
 "nbformat": 4,
 "nbformat_minor": 5
}
