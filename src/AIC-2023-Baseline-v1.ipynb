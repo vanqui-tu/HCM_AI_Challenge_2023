{
 "cells": [
  {
   "cell_type": "markdown",
   "id": "5fcc581b",
   "metadata": {
    "id": "5fcc581b"
   },
   "source": [
    "# Hướng dẫn truy vấn dữ liệu thị giác dùng fiftyone\n",
    "\n",
    "Đây là hướng dẫn dùng cho các đội tham dự AI Challenge 2023. Hướng dẫn này nhằm mục đích giới thiệu cho các đội một phương pháp cơ bản để truy vấn dữ liệu dựa trên thông tin BTC cung cấp và giới thiệu công cụ fiftyone để hỗ trợ đội thi đánh giá kết quả.\n",
    "\n",
    "## Cài đặt ban đầu\n",
    "\n",
    "Bạn cần cài đặt môi trường để chạy được notebook này trên máy tính cá nhân của bạn. Hướng dẫn này không bao gồm phần cài đặt môi trường. Khuyến nghị: các bạn có thể cài đặt [Anaconda](https://docs.anaconda.com/free/anaconda/install/windows/).\n",
    "\n",
    "## Cài đặt các thư viện FiftyOne và PyTorch\n",
    "Hướng dẫn này dùng fiftyone là công cụ để trực quan dữ liệu và pytorch là backend chính cho các thuật toán máy học.\n",
    "\n",
    "### Lưu ý: Đối với các bạn dùng Windows nên dùng bản fiftyone **v0.21.4**, không nên dùng bản mới nhất!"
   ]
  },
  {
   "cell_type": "code",
   "execution_count": 1,
   "id": "f5a576d0",
   "metadata": {
    "id": "f5a576d0"
   },
   "outputs": [
    {
     "name": "stdout",
     "output_type": "stream",
     "text": [
      "Collecting fiftyone==0.21.4\n",
      "  Obtaining dependency information for fiftyone==0.21.4 from https://files.pythonhosted.org/packages/0e/1f/062e3087fa672a8324c969521670e5475edecb8005ab6c9f872a274db784/fiftyone-0.21.4-py3-none-any.whl.metadata\n",
      "  Downloading fiftyone-0.21.4-py3-none-any.whl.metadata (12 kB)\n",
      "Requirement already satisfied: aiofiles in /home/vvthai/miniconda3/envs/env-aic2023/lib/python3.8/site-packages (from fiftyone==0.21.4) (23.2.1)\n",
      "Collecting argcomplete (from fiftyone==0.21.4)\n",
      "  Obtaining dependency information for argcomplete from https://files.pythonhosted.org/packages/1e/05/223116a4a5905d6b26bff334ffc7b74474fafe23fcb10532caf0ef86ca69/argcomplete-3.1.2-py3-none-any.whl.metadata\n",
      "  Downloading argcomplete-3.1.2-py3-none-any.whl.metadata (16 kB)\n",
      "Collecting boto3 (from fiftyone==0.21.4)\n",
      "  Obtaining dependency information for boto3 from https://files.pythonhosted.org/packages/9b/86/1c5a07d3c93e80b22e6dce8c2280199e6e12dbf72dd8738d4f5e65887bc8/boto3-1.28.56-py3-none-any.whl.metadata\n",
      "  Downloading boto3-1.28.56-py3-none-any.whl.metadata (6.7 kB)\n",
      "Collecting cachetools (from fiftyone==0.21.4)\n",
      "  Obtaining dependency information for cachetools from https://files.pythonhosted.org/packages/a9/c9/c8a7710f2cedcb1db9224fdd4d8307c9e48cbddc46c18b515fefc0f1abbe/cachetools-5.3.1-py3-none-any.whl.metadata\n",
      "  Using cached cachetools-5.3.1-py3-none-any.whl.metadata (5.2 kB)\n",
      "Collecting dacite<1.8.0,>=1.6.0 (from fiftyone==0.21.4)\n",
      "  Downloading dacite-1.7.0-py3-none-any.whl (12 kB)\n",
      "Requirement already satisfied: Deprecated in /home/vvthai/miniconda3/envs/env-aic2023/lib/python3.8/site-packages (from fiftyone==0.21.4) (1.2.14)\n",
      "Collecting eventlet (from fiftyone==0.21.4)\n",
      "  Downloading eventlet-0.33.3-py2.py3-none-any.whl (226 kB)\n",
      "\u001b[2K     \u001b[38;2;114;156;31m━━━━━━━━━━━━━━━━━━━━━━━━━━━━━━━━━━━━━\u001b[0m \u001b[32m226.8/226.8 kB\u001b[0m \u001b[31m153.1 kB/s\u001b[0m eta \u001b[36m0:00:00\u001b[0m kB/s\u001b[0m eta \u001b[36m0:00:01\u001b[0m:01\u001b[0m\n",
      "\u001b[?25hRequirement already satisfied: ftfy in /home/vvthai/miniconda3/envs/env-aic2023/lib/python3.8/site-packages (from fiftyone==0.21.4) (6.1.1)\n",
      "Collecting future (from fiftyone==0.21.4)\n",
      "  Using cached future-0.18.3-py3-none-any.whl\n",
      "Collecting hypercorn>=0.13.2 (from fiftyone==0.21.4)\n",
      "  Obtaining dependency information for hypercorn>=0.13.2 from https://files.pythonhosted.org/packages/f8/aa/0632f628205f09ec7daa5875e4142db519bfa7a161d48a6417b0f9ab5e08/hypercorn-0.14.4-py3-none-any.whl.metadata\n",
      "  Downloading hypercorn-0.14.4-py3-none-any.whl.metadata (5.4 kB)\n",
      "Requirement already satisfied: Jinja2>=3 in /home/vvthai/miniconda3/envs/env-aic2023/lib/python3.8/site-packages (from fiftyone==0.21.4) (3.1.2)\n",
      "Collecting kaleido (from fiftyone==0.21.4)\n",
      "  Downloading kaleido-0.2.1-py2.py3-none-manylinux1_x86_64.whl (79.9 MB)\n",
      "\u001b[2K     \u001b[38;2;114;156;31m━━━━━━━━━━━━━━━━━━━━━━━━━━━━━━━━━━━━━━━\u001b[0m \u001b[32m79.9/79.9 MB\u001b[0m \u001b[31m597.8 kB/s\u001b[0m eta \u001b[36m0:00:00\u001b[0mm eta \u001b[36m0:00:01\u001b[0m[36m0:00:04\u001b[0m\n",
      "\u001b[?25hRequirement already satisfied: matplotlib in /home/vvthai/miniconda3/envs/env-aic2023/lib/python3.8/site-packages (from fiftyone==0.21.4) (3.7.3)\n",
      "Collecting mongoengine==0.24.2 (from fiftyone==0.21.4)\n",
      "  Downloading mongoengine-0.24.2-py3-none-any.whl (108 kB)\n",
      "\u001b[2K     \u001b[38;2;114;156;31m━━━━━━━━━━━━━━━━━━━━━━━━━━━━━━━━━━━━━━━\u001b[0m \u001b[32m108.9/108.9 kB\u001b[0m \u001b[31m1.3 MB/s\u001b[0m eta \u001b[36m0:00:00\u001b[0m[31m1.4 MB/s\u001b[0m eta \u001b[36m0:00:01\u001b[0m\n",
      "\u001b[?25hCollecting motor>=2.5 (from fiftyone==0.21.4)\n",
      "  Obtaining dependency information for motor>=2.5 from https://files.pythonhosted.org/packages/d1/b3/7be664976abdb25912ed987ea2cf9416fd8c9b3d035ab0455f56f06474a7/motor-3.3.1-py3-none-any.whl.metadata\n",
      "  Downloading motor-3.3.1-py3-none-any.whl.metadata (20 kB)\n",
      "Requirement already satisfied: numpy in /home/vvthai/miniconda3/envs/env-aic2023/lib/python3.8/site-packages (from fiftyone==0.21.4) (1.24.3)\n",
      "Requirement already satisfied: packaging in /home/vvthai/miniconda3/envs/env-aic2023/lib/python3.8/site-packages (from fiftyone==0.21.4) (23.1)\n",
      "Requirement already satisfied: pandas in /home/vvthai/miniconda3/envs/env-aic2023/lib/python3.8/site-packages (from fiftyone==0.21.4) (2.0.3)\n",
      "Requirement already satisfied: Pillow>=6.2 in /home/vvthai/miniconda3/envs/env-aic2023/lib/python3.8/site-packages (from fiftyone==0.21.4) (10.0.0)\n",
      "Collecting plotly>=4.14 (from fiftyone==0.21.4)\n",
      "  Obtaining dependency information for plotly>=4.14 from https://files.pythonhosted.org/packages/df/79/c80174d711ee26ee5da55a9cc3e248f1ec7a0188b5e4d6bbbbcd09b974b0/plotly-5.17.0-py2.py3-none-any.whl.metadata\n",
      "  Downloading plotly-5.17.0-py2.py3-none-any.whl.metadata (7.0 kB)\n",
      "Collecting pprintpp (from fiftyone==0.21.4)\n",
      "  Downloading pprintpp-0.4.0-py2.py3-none-any.whl (16 kB)\n",
      "Requirement already satisfied: psutil in /home/vvthai/miniconda3/envs/env-aic2023/lib/python3.8/site-packages (from fiftyone==0.21.4) (5.9.0)\n",
      "Collecting pymongo>=3.12 (from fiftyone==0.21.4)\n",
      "  Obtaining dependency information for pymongo>=3.12 from https://files.pythonhosted.org/packages/bf/b7/63cebc24f4690b85d0c91fe11a32ad14e791ff499f4054cde8f1a4ea08dc/pymongo-4.5.0-cp38-cp38-manylinux_2_17_x86_64.manylinux2014_x86_64.whl.metadata\n",
      "  Downloading pymongo-4.5.0-cp38-cp38-manylinux_2_17_x86_64.manylinux2014_x86_64.whl.metadata (22 kB)\n",
      "Requirement already satisfied: pytz in /home/vvthai/miniconda3/envs/env-aic2023/lib/python3.8/site-packages (from fiftyone==0.21.4) (2023.3.post1)\n",
      "Requirement already satisfied: PyYAML in /home/vvthai/miniconda3/envs/env-aic2023/lib/python3.8/site-packages (from fiftyone==0.21.4) (6.0.1)\n",
      "Requirement already satisfied: regex in /home/vvthai/miniconda3/envs/env-aic2023/lib/python3.8/site-packages (from fiftyone==0.21.4) (2023.8.8)\n",
      "Collecting retrying (from fiftyone==0.21.4)\n",
      "  Downloading retrying-1.3.4-py3-none-any.whl (11 kB)\n",
      "Requirement already satisfied: scikit-learn in /home/vvthai/miniconda3/envs/env-aic2023/lib/python3.8/site-packages (from fiftyone==0.21.4) (1.3.0)\n",
      "Collecting scikit-image (from fiftyone==0.21.4)\n",
      "  Obtaining dependency information for scikit-image from https://files.pythonhosted.org/packages/33/29/1d696450464d6e13358d3ef185a1fb14a11181c5dab1eb2837c02be86373/scikit_image-0.21.0-cp38-cp38-manylinux_2_17_x86_64.manylinux2014_x86_64.whl.metadata\n",
      "  Downloading scikit_image-0.21.0-cp38-cp38-manylinux_2_17_x86_64.manylinux2014_x86_64.whl.metadata (14 kB)\n",
      "Requirement already satisfied: setuptools in /home/vvthai/miniconda3/envs/env-aic2023/lib/python3.8/site-packages (from fiftyone==0.21.4) (68.0.0)\n",
      "Collecting sseclient-py<2,>=1.7.2 (from fiftyone==0.21.4)\n",
      "  Obtaining dependency information for sseclient-py<2,>=1.7.2 from https://files.pythonhosted.org/packages/49/58/97655efdfeb5b4eeab85b1fc5d3fa1023661246c2ab2a26ea8e47402d4f2/sseclient_py-1.8.0-py2.py3-none-any.whl.metadata\n",
      "  Downloading sseclient_py-1.8.0-py2.py3-none-any.whl.metadata (2.0 kB)\n",
      "Collecting sse-starlette<1,>=0.10.3 (from fiftyone==0.21.4)\n",
      "  Downloading sse_starlette-0.10.3-py3-none-any.whl (8.0 kB)\n",
      "Collecting starlette<0.27,>=0.24.0 (from fiftyone==0.21.4)\n",
      "  Downloading starlette-0.26.1-py3-none-any.whl (66 kB)\n",
      "\u001b[2K     \u001b[38;2;114;156;31m━━━━━━━━━━━━━━━━━━━━━━━━━━━━━━━━━━━━━━━━\u001b[0m \u001b[32m66.9/66.9 kB\u001b[0m \u001b[31m1.0 MB/s\u001b[0m eta \u001b[36m0:00:00\u001b[0m MB/s\u001b[0m eta \u001b[36m0:00:01\u001b[0m\n",
      "\u001b[?25hCollecting strawberry-graphql==0.138.1 (from fiftyone==0.21.4)\n",
      "  Downloading strawberry_graphql-0.138.1-py3-none-any.whl (192 kB)\n",
      "\u001b[2K     \u001b[38;2;114;156;31m━━━━━━━━━━━━━━━━━━━━━━━━━━━━━━━━━━━━━━━\u001b[0m \u001b[32m192.5/192.5 kB\u001b[0m \u001b[31m1.3 MB/s\u001b[0m eta \u001b[36m0:00:00\u001b[0m MB/s\u001b[0m eta \u001b[36m0:00:01\u001b[0m:01\u001b[0m\n",
      "\u001b[?25hRequirement already satisfied: tabulate in /home/vvthai/miniconda3/envs/env-aic2023/lib/python3.8/site-packages (from fiftyone==0.21.4) (0.9.0)\n",
      "Collecting xmltodict (from fiftyone==0.21.4)\n",
      "  Downloading xmltodict-0.13.0-py2.py3-none-any.whl (10.0 kB)\n",
      "Collecting universal-analytics-python3<2,>=1.0.1 (from fiftyone==0.21.4)\n",
      "  Downloading universal_analytics_python3-1.1.1-py3-none-any.whl (10 kB)\n",
      "Collecting fiftyone-brain<0.14,>=0.13 (from fiftyone==0.21.4)\n",
      "  Obtaining dependency information for fiftyone-brain<0.14,>=0.13 from https://files.pythonhosted.org/packages/fd/1a/d3afc2bb279ef96fc1c68e53d3e62d2435f4df1d25e8564f7a443fb04bc0/fiftyone_brain-0.13.1-py3-none-any.whl.metadata\n",
      "  Downloading fiftyone_brain-0.13.1-py3-none-any.whl.metadata (12 kB)\n"
     ]
    },
    {
     "name": "stdout",
     "output_type": "stream",
     "text": [
      "Collecting fiftyone-db<0.5,>=0.4 (from fiftyone==0.21.4)\n",
      "  Downloading fiftyone_db-0.4.0-py3-none-manylinux1_x86_64.whl (37.8 MB)\n",
      "\u001b[2K     \u001b[38;2;114;156;31m━━━━━━━━━━━━━━━━━━━━━━━━━━━━━━━━━━━━━━━\u001b[0m \u001b[32m37.8/37.8 MB\u001b[0m \u001b[31m518.2 kB/s\u001b[0m eta \u001b[36m0:00:00\u001b[0mm eta \u001b[36m0:00:01\u001b[0m[36m0:00:02\u001b[0m\n",
      "\u001b[?25hCollecting voxel51-eta<0.11,>=0.10 (from fiftyone==0.21.4)\n",
      "  Obtaining dependency information for voxel51-eta<0.11,>=0.10 from https://files.pythonhosted.org/packages/97/d1/8fb3e3c96c55a19b5498d6acc7437b12250fb092edaa9f8c16f38836897f/voxel51_eta-0.10.0-py2.py3-none-any.whl.metadata\n",
      "  Downloading voxel51_eta-0.10.0-py2.py3-none-any.whl.metadata (14 kB)\n",
      "Collecting opencv-python-headless (from fiftyone==0.21.4)\n",
      "  Obtaining dependency information for opencv-python-headless from https://files.pythonhosted.org/packages/21/6d/abf701fa71ff22e3617ec9b46197f9ff5bba16dfefa7ee259b60216112eb/opencv_python_headless-4.8.0.76-cp37-abi3-manylinux_2_17_x86_64.manylinux2014_x86_64.whl.metadata\n",
      "  Downloading opencv_python_headless-4.8.0.76-cp37-abi3-manylinux_2_17_x86_64.manylinux2014_x86_64.whl.metadata (19 kB)\n",
      "Collecting graphql-core<3.3.0,>=3.2.0 (from strawberry-graphql==0.138.1->fiftyone==0.21.4)\n",
      "  Downloading graphql_core-3.2.3-py3-none-any.whl (202 kB)\n",
      "\u001b[2K     \u001b[38;2;114;156;31m━━━━━━━━━━━━━━━━━━━━━━━━━━━━━━━━━━━━━\u001b[0m \u001b[32m202.9/202.9 kB\u001b[0m \u001b[31m908.9 kB/s\u001b[0m eta \u001b[36m0:00:00\u001b[0m kB/s\u001b[0m eta \u001b[36m0:00:01\u001b[0m:01\u001b[0m\n",
      "\u001b[?25hRequirement already satisfied: python-dateutil<3.0.0,>=2.7.0 in /home/vvthai/miniconda3/envs/env-aic2023/lib/python3.8/site-packages (from strawberry-graphql==0.138.1->fiftyone==0.21.4) (2.8.2)\n",
      "Requirement already satisfied: typing_extensions<5.0.0,>=3.7.4 in /home/vvthai/miniconda3/envs/env-aic2023/lib/python3.8/site-packages (from strawberry-graphql==0.138.1->fiftyone==0.21.4) (4.7.1)\n",
      "Requirement already satisfied: scipy>=1.2.0 in /home/vvthai/miniconda3/envs/env-aic2023/lib/python3.8/site-packages (from fiftyone-brain<0.14,>=0.13->fiftyone==0.21.4) (1.10.1)\n",
      "Requirement already satisfied: h11 in /home/vvthai/miniconda3/envs/env-aic2023/lib/python3.8/site-packages (from hypercorn>=0.13.2->fiftyone==0.21.4) (0.14.0)\n",
      "Collecting h2>=3.1.0 (from hypercorn>=0.13.2->fiftyone==0.21.4)\n",
      "  Downloading h2-4.1.0-py3-none-any.whl (57 kB)\n",
      "\u001b[2K     \u001b[38;2;114;156;31m━━━━━━━━━━━━━━━━━━━━━━━━━━━━━━━━━━━━━━━\u001b[0m \u001b[32m57.5/57.5 kB\u001b[0m \u001b[31m804.3 kB/s\u001b[0m eta \u001b[36m0:00:00\u001b[0mMB/s\u001b[0m eta \u001b[36m0:00:01\u001b[0m\n",
      "\u001b[?25hCollecting priority (from hypercorn>=0.13.2->fiftyone==0.21.4)\n",
      "  Downloading priority-2.0.0-py3-none-any.whl (8.9 kB)\n",
      "Collecting tomli (from hypercorn>=0.13.2->fiftyone==0.21.4)\n",
      "  Using cached tomli-2.0.1-py3-none-any.whl (12 kB)\n",
      "Collecting wsproto>=0.14.0 (from hypercorn>=0.13.2->fiftyone==0.21.4)\n",
      "  Downloading wsproto-1.2.0-py3-none-any.whl (24 kB)\n",
      "Requirement already satisfied: MarkupSafe>=2.0 in /home/vvthai/miniconda3/envs/env-aic2023/lib/python3.8/site-packages (from Jinja2>=3->fiftyone==0.21.4) (2.1.1)\n",
      "Collecting tenacity>=6.2.0 (from plotly>=4.14->fiftyone==0.21.4)\n",
      "  Obtaining dependency information for tenacity>=6.2.0 from https://files.pythonhosted.org/packages/f4/f1/990741d5bb2487d529d20a433210ffa136a367751e454214013b441c4575/tenacity-8.2.3-py3-none-any.whl.metadata\n",
      "  Downloading tenacity-8.2.3-py3-none-any.whl.metadata (1.0 kB)\n",
      "Collecting dnspython<3.0.0,>=1.16.0 (from pymongo>=3.12->fiftyone==0.21.4)\n",
      "  Obtaining dependency information for dnspython<3.0.0,>=1.16.0 from https://files.pythonhosted.org/packages/f6/b4/0a9bee52c50f226a3cbfb54263d02bb421c7f2adc136520729c2c689c1e5/dnspython-2.4.2-py3-none-any.whl.metadata\n",
      "  Downloading dnspython-2.4.2-py3-none-any.whl.metadata (4.9 kB)\n",
      "Requirement already satisfied: anyio<5,>=3.4.0 in /home/vvthai/miniconda3/envs/env-aic2023/lib/python3.8/site-packages (from starlette<0.27,>=0.24.0->fiftyone==0.21.4) (3.5.0)\n",
      "Collecting httpx>=0.10.0 (from universal-analytics-python3<2,>=1.0.1->fiftyone==0.21.4)\n",
      "  Obtaining dependency information for httpx>=0.10.0 from https://files.pythonhosted.org/packages/33/0d/d9ce469af019741c8999711d36b270ff992ceb1a0293f73f9f34fdf131e9/httpx-0.25.0-py3-none-any.whl.metadata\n",
      "  Downloading httpx-0.25.0-py3-none-any.whl.metadata (7.6 kB)\n",
      "Collecting dill (from voxel51-eta<0.11,>=0.10->fiftyone==0.21.4)\n",
      "  Obtaining dependency information for dill from https://files.pythonhosted.org/packages/f5/3a/74a29b11cf2cdfcd6ba89c0cecd70b37cd1ba7b77978ce611eb7a146a832/dill-0.3.7-py3-none-any.whl.metadata\n",
      "  Downloading dill-0.3.7-py3-none-any.whl.metadata (9.9 kB)\n",
      "Collecting glob2 (from voxel51-eta<0.11,>=0.10->fiftyone==0.21.4)\n",
      "  Downloading glob2-0.7.tar.gz (10 kB)\n",
      "  Preparing metadata (setup.py) ... \u001b[?25ldone\n",
      "\u001b[?25hCollecting jsonlines (from voxel51-eta<0.11,>=0.10->fiftyone==0.21.4)\n",
      "  Obtaining dependency information for jsonlines from https://files.pythonhosted.org/packages/f8/62/d9ba6323b9202dd2fe166beab8a86d29465c41a0288cbe229fac60c1ab8d/jsonlines-4.0.0-py3-none-any.whl.metadata\n",
      "  Downloading jsonlines-4.0.0-py3-none-any.whl.metadata (1.6 kB)\n",
      "Collecting py7zr (from voxel51-eta<0.11,>=0.10->fiftyone==0.21.4)\n",
      "  Obtaining dependency information for py7zr from https://files.pythonhosted.org/packages/2c/da/155bb1f692c067b9213c9c7b8c19a012a65027399606d623a25dfb1d3af1/py7zr-0.20.6-py3-none-any.whl.metadata\n",
      "  Downloading py7zr-0.20.6-py3-none-any.whl.metadata (16 kB)\n",
      "Collecting rarfile (from voxel51-eta<0.11,>=0.10->fiftyone==0.21.4)\n",
      "  Obtaining dependency information for rarfile from https://files.pythonhosted.org/packages/75/34/f06b7de74bcea328d8d7a950aad099c1100578cc3960ffc5a00d30ab511c/rarfile-4.1-py3-none-any.whl.metadata\n",
      "  Downloading rarfile-4.1-py3-none-any.whl.metadata (4.4 kB)\n",
      "Requirement already satisfied: requests in /home/vvthai/miniconda3/envs/env-aic2023/lib/python3.8/site-packages (from voxel51-eta<0.11,>=0.10->fiftyone==0.21.4) (2.31.0)\n",
      "Requirement already satisfied: six in /home/vvthai/miniconda3/envs/env-aic2023/lib/python3.8/site-packages (from voxel51-eta<0.11,>=0.10->fiftyone==0.21.4) (1.16.0)\n",
      "Collecting sortedcontainers (from voxel51-eta<0.11,>=0.10->fiftyone==0.21.4)\n",
      "  Downloading sortedcontainers-2.4.0-py2.py3-none-any.whl (29 kB)\n",
      "Collecting tzlocal (from voxel51-eta<0.11,>=0.10->fiftyone==0.21.4)\n",
      "  Obtaining dependency information for tzlocal from https://files.pythonhosted.org/packages/84/d2/730a87f0dbf184760394a85088d0d2366a5a8a32bc32ffd869a83f1de854/tzlocal-5.0.1-py3-none-any.whl.metadata\n",
      "  Using cached tzlocal-5.0.1-py3-none-any.whl.metadata (16 kB)\n",
      "Requirement already satisfied: urllib3 in /home/vvthai/miniconda3/envs/env-aic2023/lib/python3.8/site-packages (from voxel51-eta<0.11,>=0.10->fiftyone==0.21.4) (1.26.16)\n",
      "Collecting botocore<1.32.0,>=1.31.56 (from boto3->fiftyone==0.21.4)\n",
      "  Obtaining dependency information for botocore<1.32.0,>=1.31.56 from https://files.pythonhosted.org/packages/bc/8c/efd99c772c8e471797a5d5884734977319ed381c1bb1f835d11bba1566f0/botocore-1.31.56-py3-none-any.whl.metadata\n",
      "  Downloading botocore-1.31.56-py3-none-any.whl.metadata (6.0 kB)\n",
      "Collecting jmespath<2.0.0,>=0.7.1 (from boto3->fiftyone==0.21.4)\n",
      "  Downloading jmespath-1.0.1-py3-none-any.whl (20 kB)\n",
      "Collecting s3transfer<0.8.0,>=0.7.0 (from boto3->fiftyone==0.21.4)\n",
      "  Obtaining dependency information for s3transfer<0.8.0,>=0.7.0 from https://files.pythonhosted.org/packages/5a/4b/fec9ce18f8874a96c5061422625ba86c3ee1e6587ccd92ff9f5bf7bd91b2/s3transfer-0.7.0-py3-none-any.whl.metadata\n",
      "  Downloading s3transfer-0.7.0-py3-none-any.whl.metadata (1.8 kB)\n",
      "Requirement already satisfied: wrapt<2,>=1.10 in /home/vvthai/miniconda3/envs/env-aic2023/lib/python3.8/site-packages (from Deprecated->fiftyone==0.21.4) (1.15.0)\n",
      "Collecting greenlet>=0.3 (from eventlet->fiftyone==0.21.4)\n",
      "  Downloading greenlet-2.0.2-cp38-cp38-manylinux_2_17_x86_64.manylinux2014_x86_64.whl (618 kB)\n",
      "\u001b[2K     \u001b[38;2;114;156;31m━━━━━━━━━━━━━━━━━━━━━━━━━━━━━━━━━━━━━━━\u001b[0m \u001b[32m618.5/618.5 kB\u001b[0m \u001b[31m1.1 MB/s\u001b[0m eta \u001b[36m0:00:00\u001b[0mm eta \u001b[36m0:00:01\u001b[0m0:01\u001b[0m:01\u001b[0m\n",
      "\u001b[?25hRequirement already satisfied: wcwidth>=0.2.5 in /home/vvthai/miniconda3/envs/env-aic2023/lib/python3.8/site-packages (from ftfy->fiftyone==0.21.4) (0.2.5)\n",
      "Requirement already satisfied: contourpy>=1.0.1 in /home/vvthai/miniconda3/envs/env-aic2023/lib/python3.8/site-packages (from matplotlib->fiftyone==0.21.4) (1.1.0)\n",
      "Requirement already satisfied: cycler>=0.10 in /home/vvthai/miniconda3/envs/env-aic2023/lib/python3.8/site-packages (from matplotlib->fiftyone==0.21.4) (0.11.0)\n",
      "Requirement already satisfied: fonttools>=4.22.0 in /home/vvthai/miniconda3/envs/env-aic2023/lib/python3.8/site-packages (from matplotlib->fiftyone==0.21.4) (4.42.1)\n",
      "Requirement already satisfied: kiwisolver>=1.0.1 in /home/vvthai/miniconda3/envs/env-aic2023/lib/python3.8/site-packages (from matplotlib->fiftyone==0.21.4) (1.4.5)\n",
      "Requirement already satisfied: pyparsing>=2.3.1 in /home/vvthai/miniconda3/envs/env-aic2023/lib/python3.8/site-packages (from matplotlib->fiftyone==0.21.4) (3.1.1)\n",
      "Requirement already satisfied: importlib-resources>=3.2.0 in /home/vvthai/miniconda3/envs/env-aic2023/lib/python3.8/site-packages (from matplotlib->fiftyone==0.21.4) (5.2.0)\n"
     ]
    },
    {
     "name": "stdout",
     "output_type": "stream",
     "text": [
      "Requirement already satisfied: tzdata>=2022.1 in /home/vvthai/miniconda3/envs/env-aic2023/lib/python3.8/site-packages (from pandas->fiftyone==0.21.4) (2023.3)\n",
      "Requirement already satisfied: networkx>=2.8 in /home/vvthai/miniconda3/envs/env-aic2023/lib/python3.8/site-packages (from scikit-image->fiftyone==0.21.4) (3.1)\n",
      "Requirement already satisfied: imageio>=2.27 in /home/vvthai/miniconda3/envs/env-aic2023/lib/python3.8/site-packages (from scikit-image->fiftyone==0.21.4) (2.31.3)\n",
      "Collecting tifffile>=2022.8.12 (from scikit-image->fiftyone==0.21.4)\n",
      "  Obtaining dependency information for tifffile>=2022.8.12 from https://files.pythonhosted.org/packages/06/a3/68d17088a4f09565bc7341fd20490da8191ec4cddde479daaabbe07bb603/tifffile-2023.7.10-py3-none-any.whl.metadata\n",
      "  Downloading tifffile-2023.7.10-py3-none-any.whl.metadata (31 kB)\n",
      "Collecting PyWavelets>=1.1.1 (from scikit-image->fiftyone==0.21.4)\n",
      "  Downloading PyWavelets-1.4.1-cp38-cp38-manylinux_2_17_x86_64.manylinux2014_x86_64.whl (6.9 MB)\n",
      "\u001b[2K     \u001b[38;2;114;156;31m━━━━━━━━━━━━━━━━━━━━━━━━━━━━━━━━━━━━━━━━\u001b[0m \u001b[32m6.9/6.9 MB\u001b[0m \u001b[31m978.7 kB/s\u001b[0m eta \u001b[36m0:00:00\u001b[0mm eta \u001b[36m0:00:01\u001b[0m[36m0:00:01\u001b[0m\n",
      "\u001b[?25hCollecting lazy_loader>=0.2 (from scikit-image->fiftyone==0.21.4)\n",
      "  Obtaining dependency information for lazy_loader>=0.2 from https://files.pythonhosted.org/packages/a1/c3/65b3814e155836acacf720e5be3b5757130346670ac454fee29d3eda1381/lazy_loader-0.3-py3-none-any.whl.metadata\n",
      "  Downloading lazy_loader-0.3-py3-none-any.whl.metadata (4.3 kB)\n",
      "Requirement already satisfied: joblib>=1.1.1 in /home/vvthai/miniconda3/envs/env-aic2023/lib/python3.8/site-packages (from scikit-learn->fiftyone==0.21.4) (1.3.2)\n",
      "Requirement already satisfied: threadpoolctl>=2.0.0 in /home/vvthai/miniconda3/envs/env-aic2023/lib/python3.8/site-packages (from scikit-learn->fiftyone==0.21.4) (3.2.0)\n",
      "Requirement already satisfied: idna>=2.8 in /home/vvthai/miniconda3/envs/env-aic2023/lib/python3.8/site-packages (from anyio<5,>=3.4.0->starlette<0.27,>=0.24.0->fiftyone==0.21.4) (3.4)\n",
      "Requirement already satisfied: sniffio>=1.1 in /home/vvthai/miniconda3/envs/env-aic2023/lib/python3.8/site-packages (from anyio<5,>=3.4.0->starlette<0.27,>=0.24.0->fiftyone==0.21.4) (1.2.0)\n",
      "Collecting hyperframe<7,>=6.0 (from h2>=3.1.0->hypercorn>=0.13.2->fiftyone==0.21.4)\n",
      "  Downloading hyperframe-6.0.1-py3-none-any.whl (12 kB)\n",
      "Collecting hpack<5,>=4.0 (from h2>=3.1.0->hypercorn>=0.13.2->fiftyone==0.21.4)\n",
      "  Downloading hpack-4.0.0-py3-none-any.whl (32 kB)\n",
      "Requirement already satisfied: certifi in /home/vvthai/miniconda3/envs/env-aic2023/lib/python3.8/site-packages (from httpx>=0.10.0->universal-analytics-python3<2,>=1.0.1->fiftyone==0.21.4) (2023.7.22)\n",
      "Collecting httpcore<0.19.0,>=0.18.0 (from httpx>=0.10.0->universal-analytics-python3<2,>=1.0.1->fiftyone==0.21.4)\n",
      "  Obtaining dependency information for httpcore<0.19.0,>=0.18.0 from https://files.pythonhosted.org/packages/ac/97/724afbb7925339f6214bf1fdb5714d1a462690466832bf8fb3fd497649f1/httpcore-0.18.0-py3-none-any.whl.metadata\n",
      "  Downloading httpcore-0.18.0-py3-none-any.whl.metadata (18 kB)\n",
      "Requirement already satisfied: zipp>=3.1.0 in /home/vvthai/miniconda3/envs/env-aic2023/lib/python3.8/site-packages (from importlib-resources>=3.2.0->matplotlib->fiftyone==0.21.4) (3.11.0)\n",
      "Requirement already satisfied: attrs>=19.2.0 in /home/vvthai/miniconda3/envs/env-aic2023/lib/python3.8/site-packages (from jsonlines->voxel51-eta<0.11,>=0.10->fiftyone==0.21.4) (22.1.0)\n",
      "Collecting texttable (from py7zr->voxel51-eta<0.11,>=0.10->fiftyone==0.21.4)\n",
      "  Downloading texttable-1.6.7-py2.py3-none-any.whl (10 kB)\n",
      "Collecting pycryptodomex>=3.6.6 (from py7zr->voxel51-eta<0.11,>=0.10->fiftyone==0.21.4)\n",
      "  Obtaining dependency information for pycryptodomex>=3.6.6 from https://files.pythonhosted.org/packages/23/23/3f3d042c96ff7bece5b126365593b1f9c8e3ae62ce80d44e9da39c5e8a73/pycryptodomex-3.19.0-cp35-abi3-manylinux_2_17_x86_64.manylinux2014_x86_64.whl.metadata\n",
      "  Downloading pycryptodomex-3.19.0-cp35-abi3-manylinux_2_17_x86_64.manylinux2014_x86_64.whl.metadata (3.4 kB)\n",
      "Collecting pyzstd>=0.14.4 (from py7zr->voxel51-eta<0.11,>=0.10->fiftyone==0.21.4)\n",
      "  Obtaining dependency information for pyzstd>=0.14.4 from https://files.pythonhosted.org/packages/d2/82/f403ef5a2579c82c90dc1634248495ebc476e6b234a19e07f53b1aa1935d/pyzstd-0.15.9-cp38-cp38-manylinux_2_17_x86_64.manylinux2014_x86_64.whl.metadata\n",
      "  Downloading pyzstd-0.15.9-cp38-cp38-manylinux_2_17_x86_64.manylinux2014_x86_64.whl.metadata (7.5 kB)\n",
      "Collecting pyppmd<1.1.0,>=0.18.1 (from py7zr->voxel51-eta<0.11,>=0.10->fiftyone==0.21.4)\n",
      "  Downloading pyppmd-1.0.0-cp38-cp38-manylinux_2_17_x86_64.manylinux2014_x86_64.whl (139 kB)\n",
      "\u001b[2K     \u001b[38;2;114;156;31m━━━━━━━━━━━━━━━━━━━━━━━━━━━━━━━━━━━━━\u001b[0m \u001b[32m139.7/139.7 kB\u001b[0m \u001b[31m657.7 kB/s\u001b[0m eta \u001b[36m0:00:00\u001b[0m1m659.4 kB/s\u001b[0m eta \u001b[36m0:00:01\u001b[0m\n",
      "\u001b[?25hCollecting pybcj>=0.6.0 (from py7zr->voxel51-eta<0.11,>=0.10->fiftyone==0.21.4)\n",
      "  Downloading pybcj-1.0.1-cp38-cp38-manylinux_2_17_x86_64.manylinux2014_x86_64.whl (50 kB)\n",
      "\u001b[2K     \u001b[38;2;114;156;31m━━━━━━━━━━━━━━━━━━━━━━━━━━━━━━━━━━━━━━━\u001b[0m \u001b[32m50.8/50.8 kB\u001b[0m \u001b[31m726.3 kB/s\u001b[0m eta \u001b[36m0:00:00\u001b[0mm eta \u001b[36m-:--:--\u001b[0m\n",
      "\u001b[?25hCollecting multivolumefile>=0.2.3 (from py7zr->voxel51-eta<0.11,>=0.10->fiftyone==0.21.4)\n",
      "  Downloading multivolumefile-0.2.3-py3-none-any.whl (17 kB)\n",
      "Collecting brotli>=1.0.9 (from py7zr->voxel51-eta<0.11,>=0.10->fiftyone==0.21.4)\n",
      "  Obtaining dependency information for brotli>=1.0.9 from https://files.pythonhosted.org/packages/e7/41/1c6d15c8d5b55db2c3c249c64c352c8a1bc97f5e5c55183f5930866fc012/Brotli-1.1.0-cp38-cp38-manylinux_2_5_x86_64.manylinux1_x86_64.whl.metadata\n",
      "  Downloading Brotli-1.1.0-cp38-cp38-manylinux_2_5_x86_64.manylinux1_x86_64.whl.metadata (5.5 kB)\n",
      "Collecting inflate64>=0.3.1 (from py7zr->voxel51-eta<0.11,>=0.10->fiftyone==0.21.4)\n",
      "  Downloading inflate64-0.3.1-cp38-cp38-manylinux_2_17_x86_64.manylinux2014_x86_64.whl (94 kB)\n",
      "\u001b[2K     \u001b[38;2;114;156;31m━━━━━━━━━━━━━━━━━━━━━━━━━━━━━━━━━━━━━━━\u001b[0m \u001b[32m94.5/94.5 kB\u001b[0m \u001b[31m483.3 kB/s\u001b[0m eta \u001b[36m0:00:00\u001b[0m[36m0:00:01\u001b[0mm eta \u001b[36m0:00:01\u001b[0m\n",
      "\u001b[?25hRequirement already satisfied: charset-normalizer<4,>=2 in /home/vvthai/miniconda3/envs/env-aic2023/lib/python3.8/site-packages (from requests->voxel51-eta<0.11,>=0.10->fiftyone==0.21.4) (2.0.4)\n",
      "Collecting backports.zoneinfo (from tzlocal->voxel51-eta<0.11,>=0.10->fiftyone==0.21.4)\n",
      "  Using cached backports.zoneinfo-0.2.1-cp38-cp38-manylinux1_x86_64.whl (74 kB)\n",
      "Downloading fiftyone-0.21.4-py3-none-any.whl (7.7 MB)\n",
      "\u001b[2K   \u001b[38;2;249;38;114m━━━━━━━━━━━━━━━━━━━━━\u001b[0m\u001b[38;2;249;38;114m╸\u001b[0m\u001b[38;5;237m━━━━━━━━━━━━━━━━━━\u001b[0m \u001b[32m4.2/7.7 MB\u001b[0m \u001b[31m586.3 kB/s\u001b[0m eta \u001b[36m0:00:06\u001b[0m\n",
      "\u001b[?25h\u001b[31mERROR: Exception:\n",
      "Traceback (most recent call last):\n",
      "  File \"/home/vvthai/miniconda3/envs/env-aic2023/lib/python3.8/site-packages/pip/_vendor/urllib3/response.py\", line 438, in _error_catcher\n",
      "    yield\n",
      "  File \"/home/vvthai/miniconda3/envs/env-aic2023/lib/python3.8/site-packages/pip/_vendor/urllib3/response.py\", line 561, in read\n",
      "    data = self._fp_read(amt) if not fp_closed else b\"\"\n",
      "  File \"/home/vvthai/miniconda3/envs/env-aic2023/lib/python3.8/site-packages/pip/_vendor/urllib3/response.py\", line 527, in _fp_read\n",
      "    return self._fp.read(amt) if amt is not None else self._fp.read()\n",
      "  File \"/home/vvthai/miniconda3/envs/env-aic2023/lib/python3.8/site-packages/pip/_vendor/cachecontrol/filewrapper.py\", line 90, in read\n",
      "    data = self.__fp.read(amt)\n",
      "  File \"/home/vvthai/miniconda3/envs/env-aic2023/lib/python3.8/http/client.py\", line 459, in read\n",
      "    n = self.readinto(b)\n",
      "  File \"/home/vvthai/miniconda3/envs/env-aic2023/lib/python3.8/http/client.py\", line 503, in readinto\n",
      "    n = self.fp.readinto(b)\n",
      "  File \"/home/vvthai/miniconda3/envs/env-aic2023/lib/python3.8/socket.py\", line 669, in readinto\n",
      "    return self._sock.recv_into(b)\n",
      "  File \"/home/vvthai/miniconda3/envs/env-aic2023/lib/python3.8/ssl.py\", line 1274, in recv_into\n",
      "    return self.read(nbytes, buffer)\n",
      "  File \"/home/vvthai/miniconda3/envs/env-aic2023/lib/python3.8/ssl.py\", line 1132, in read\n",
      "    return self._sslobj.read(len, buffer)\n",
      "socket.timeout: The read operation timed out\n",
      "\n",
      "During handling of the above exception, another exception occurred:\n",
      "\n",
      "Traceback (most recent call last):\n",
      "  File \"/home/vvthai/miniconda3/envs/env-aic2023/lib/python3.8/site-packages/pip/_internal/cli/base_command.py\", line 180, in exc_logging_wrapper\n",
      "    status = run_func(*args)\n",
      "  File \"/home/vvthai/miniconda3/envs/env-aic2023/lib/python3.8/site-packages/pip/_internal/cli/req_command.py\", line 248, in wrapper\n",
      "    return func(self, options, args)\n",
      "  File \"/home/vvthai/miniconda3/envs/env-aic2023/lib/python3.8/site-packages/pip/_internal/commands/install.py\", line 377, in run\n",
      "    requirement_set = resolver.resolve(\n",
      "  File \"/home/vvthai/miniconda3/envs/env-aic2023/lib/python3.8/site-packages/pip/_internal/resolution/resolvelib/resolver.py\", line 161, in resolve\n",
      "    self.factory.preparer.prepare_linked_requirements_more(reqs)\n",
      "  File \"/home/vvthai/miniconda3/envs/env-aic2023/lib/python3.8/site-packages/pip/_internal/operations/prepare.py\", line 565, in prepare_linked_requirements_more\n",
      "    self._complete_partial_requirements(\n",
      "  File \"/home/vvthai/miniconda3/envs/env-aic2023/lib/python3.8/site-packages/pip/_internal/operations/prepare.py\", line 479, in _complete_partial_requirements\n",
      "    for link, (filepath, _) in batch_download:\n",
      "  File \"/home/vvthai/miniconda3/envs/env-aic2023/lib/python3.8/site-packages/pip/_internal/network/download.py\", line 183, in __call__\n",
      "    for chunk in chunks:\n",
      "  File \"/home/vvthai/miniconda3/envs/env-aic2023/lib/python3.8/site-packages/pip/_internal/cli/progress_bars.py\", line 53, in _rich_progress_bar\n",
      "    for chunk in iterable:\n",
      "  File \"/home/vvthai/miniconda3/envs/env-aic2023/lib/python3.8/site-packages/pip/_internal/network/utils.py\", line 63, in response_chunks\n",
      "    for chunk in response.raw.stream(\n",
      "  File \"/home/vvthai/miniconda3/envs/env-aic2023/lib/python3.8/site-packages/pip/_vendor/urllib3/response.py\", line 622, in stream\n",
      "    data = self.read(amt=amt, decode_content=decode_content)\n",
      "  File \"/home/vvthai/miniconda3/envs/env-aic2023/lib/python3.8/site-packages/pip/_vendor/urllib3/response.py\", line 587, in read\n",
      "    raise IncompleteRead(self._fp_bytes_read, self.length_remaining)\n",
      "  File \"/home/vvthai/miniconda3/envs/env-aic2023/lib/python3.8/contextlib.py\", line 131, in __exit__\n",
      "    self.gen.throw(type, value, traceback)\n",
      "  File \"/home/vvthai/miniconda3/envs/env-aic2023/lib/python3.8/site-packages/pip/_vendor/urllib3/response.py\", line 443, in _error_catcher\n",
      "    raise ReadTimeoutError(self._pool, None, \"Read timed out.\")\n",
      "pip._vendor.urllib3.exceptions.ReadTimeoutError: HTTPSConnectionPool(host='files.pythonhosted.org', port=443): Read timed out.\u001b[0m\u001b[31m\n"
     ]
    },
    {
     "name": "stdout",
     "output_type": "stream",
     "text": [
      "\u001b[0mRequirement already satisfied: torch in /home/vvthai/miniconda3/envs/env-aic2023/lib/python3.8/site-packages (2.0.1)\n",
      "Requirement already satisfied: torchvision in /home/vvthai/miniconda3/envs/env-aic2023/lib/python3.8/site-packages (0.15.2)\n",
      "Requirement already satisfied: torchaudio in /home/vvthai/miniconda3/envs/env-aic2023/lib/python3.8/site-packages (2.0.2)\n",
      "Requirement already satisfied: filelock in /home/vvthai/miniconda3/envs/env-aic2023/lib/python3.8/site-packages (from torch) (3.9.0)\n",
      "Requirement already satisfied: typing-extensions in /home/vvthai/miniconda3/envs/env-aic2023/lib/python3.8/site-packages (from torch) (4.7.1)\n",
      "Requirement already satisfied: sympy in /home/vvthai/miniconda3/envs/env-aic2023/lib/python3.8/site-packages (from torch) (1.11.1)\n",
      "Requirement already satisfied: networkx in /home/vvthai/miniconda3/envs/env-aic2023/lib/python3.8/site-packages (from torch) (3.1)\n",
      "Requirement already satisfied: jinja2 in /home/vvthai/miniconda3/envs/env-aic2023/lib/python3.8/site-packages (from torch) (3.1.2)\n",
      "Requirement already satisfied: numpy in /home/vvthai/miniconda3/envs/env-aic2023/lib/python3.8/site-packages (from torchvision) (1.24.3)\n",
      "Requirement already satisfied: requests in /home/vvthai/miniconda3/envs/env-aic2023/lib/python3.8/site-packages (from torchvision) (2.31.0)\n",
      "Requirement already satisfied: pillow!=8.3.*,>=5.3.0 in /home/vvthai/miniconda3/envs/env-aic2023/lib/python3.8/site-packages (from torchvision) (10.0.0)\n",
      "Requirement already satisfied: MarkupSafe>=2.0 in /home/vvthai/miniconda3/envs/env-aic2023/lib/python3.8/site-packages (from jinja2->torch) (2.1.1)\n",
      "Requirement already satisfied: charset-normalizer<4,>=2 in /home/vvthai/miniconda3/envs/env-aic2023/lib/python3.8/site-packages (from requests->torchvision) (2.0.4)\n",
      "Requirement already satisfied: idna<4,>=2.5 in /home/vvthai/miniconda3/envs/env-aic2023/lib/python3.8/site-packages (from requests->torchvision) (3.4)\n",
      "Requirement already satisfied: urllib3<3,>=1.21.1 in /home/vvthai/miniconda3/envs/env-aic2023/lib/python3.8/site-packages (from requests->torchvision) (1.26.16)\n",
      "Requirement already satisfied: certifi>=2017.4.17 in /home/vvthai/miniconda3/envs/env-aic2023/lib/python3.8/site-packages (from requests->torchvision) (2023.7.22)\n",
      "Requirement already satisfied: mpmath>=0.19 in /home/vvthai/miniconda3/envs/env-aic2023/lib/python3.8/site-packages (from sympy->torch) (1.3.0)\n"
     ]
    }
   ],
   "source": [
    "! pip install fiftyone==0.21.4\n",
    "! pip install torch torchvision torchaudio\n"
   ]
  },
  {
   "cell_type": "markdown",
   "id": "fb9afb40",
   "metadata": {
    "id": "fb9afb40"
   },
   "source": [
    "Load dữ liệu keyframe từ thư mục chứa keyframe. Mỗi ảnh và thông tin đi kèm sau này sẽ được lưu trữ trong một Sample. Tất cả các Sample được lưu trong Dataset."
   ]
  },
  {
   "cell_type": "code",
   "execution_count": null,
   "id": "357d4489",
   "metadata": {
    "id": "357d4489"
   },
   "outputs": [],
   "source": [
    "import fiftyone as fo\n",
    "import fiftyone.brain as fob\n",
    "import numpy as np\n",
    "from glob import glob\n",
    "import json\n",
    "import os\n",
    "\n"
   ]
  },
  {
   "cell_type": "markdown",
   "id": "36b7ba43",
   "metadata": {
    "id": "36b7ba43"
   },
   "source": [
    "Load dữ liệu keyframe từ thư mục chứa keyframe. Trong hướng dẫn này tất cả các file Keyframes_L*.zip được giải nén vào thư mục `D:\\AIC\\Keyframes`. Mỗi ảnh và thông tin đi kèm sau này sẽ được lưu trữ trong một `Sample`. Tất cả các `Sample` được lưu trong `Dataset`."
   ]
  },
  {
   "cell_type": "code",
   "execution_count": null,
   "id": "9e072688",
   "metadata": {
    "id": "9e072688"
   },
   "outputs": [],
   "source": [
    "dataset = fo.Dataset.from_images_dir('D:\\\\AIC\\\\KeyFrames', name=None, tags=None, recursive=True)"
   ]
  },
  {
   "cell_type": "markdown",
   "id": "9b89e71c",
   "metadata": {
    "id": "9b89e71c"
   },
   "source": [
    "Sau khi dữ liệu đã load lên xong. Bạn có thể truy cập vào đường vào ứng dụng web của fiftyone từ [http://localhost:5151](http://localhost:5151)"
   ]
  },
  {
   "cell_type": "code",
   "execution_count": null,
   "id": "58be11b8",
   "metadata": {
    "id": "58be11b8"
   },
   "outputs": [],
   "source": [
    "session = fo.launch_app(dataset, auto=False)"
   ]
  },
  {
   "cell_type": "markdown",
   "id": "078ce744",
   "metadata": {
    "id": "078ce744"
   },
   "source": [
    "Hoặc bạn có thể chạy cell bên dưới để mở tab mới cho ứng dụng web fiftyone"
   ]
  },
  {
   "cell_type": "code",
   "execution_count": null,
   "id": "bce0d9ce",
   "metadata": {
    "id": "bce0d9ce"
   },
   "outputs": [],
   "source": [
    "session.open_tab()"
   ]
  },
  {
   "cell_type": "markdown",
   "id": "28298924",
   "metadata": {
    "id": "28298924"
   },
   "source": [
    "### Trích xuất thêm thông tin tên của video và frameid\n",
    "Thông tin `video` và `frameid` sẽ được lấy từ tên của tập tin keyframe."
   ]
  },
  {
   "cell_type": "code",
   "execution_count": null,
   "id": "a8ee02ad",
   "metadata": {
    "id": "a8ee02ad"
   },
   "outputs": [],
   "source": [
    "for sample in dataset:\n",
    "    _, sample['video'], sample['frameid'] = sample['filepath'][:-4].rsplit('\\\\', 2)\n",
    "    sample.save()"
   ]
  },
  {
   "cell_type": "markdown",
   "id": "11d66008",
   "metadata": {
    "id": "11d66008"
   },
   "source": [
    "Bạn có thể xem `Sample` đầu tiên của `Dataset` bằng lệnh sau:"
   ]
  },
  {
   "cell_type": "code",
   "execution_count": null,
   "id": "6997ef1c",
   "metadata": {
    "id": "6997ef1c"
   },
   "outputs": [],
   "source": [
    "print(dataset.first())"
   ]
  },
  {
   "cell_type": "markdown",
   "id": "4309a34f",
   "metadata": {
    "id": "4309a34f"
   },
   "source": [
    "### Thêm thông tin kết quả của object detection.\n",
    "\n",
    "Bước này có thể tốn của bạn nhiều thời gian để đọc hết tất cả các dữ liệu về object detection. Bạn có thể bỏ qua cell này và chạy cell này sau nếu muốn thử thêm các thông tin về vector CLIP embedding trước."
   ]
  },
  {
   "cell_type": "code",
   "execution_count": null,
   "id": "ad1c4395",
   "metadata": {
    "id": "ad1c4395"
   },
   "outputs": [],
   "source": [
    "for sample in dataset:\n",
    "    object_path = f\"D:\\\\AIC\\\\objects\\\\{sample['video']}\\\\{sample['frameid']}.json\"\n",
    "    with open(object_path) as jsonfile:\n",
    "        det_data = json.load(jsonfile)\n",
    "    detections = []\n",
    "    for cls, box, score in zip(det_data['detection_class_entities'], det_data['detection_boxes'], det_data['detection_scores']):\n",
    "        # Convert to [top-left-x, top-left-y, width, height]\n",
    "        boxf = [float(box[1]), float(box[0]), float(box[3]) - float(box[1]), float(box[2]) - float(box[0])]\n",
    "        scoref = float(score)\n",
    "\n",
    "        # Only add objects with confidence > 0.4\n",
    "        if scoref > 0.4:\n",
    "            detections.append(\n",
    "                fo.Detection(\n",
    "                    label=cls,\n",
    "                    bounding_box= boxf,\n",
    "                    confidence=float(score)\n",
    "                )\n",
    "            )\n",
    "    sample[\"object_faster_rcnn\"] = fo.Detections(detections=detections)\n",
    "    sample.save()\n"
   ]
  },
  {
   "cell_type": "markdown",
   "id": "e287dbb4",
   "metadata": {
    "id": "e287dbb4"
   },
   "source": [
    "### Thêm thông tin CLIP embedding."
   ]
  },
  {
   "cell_type": "code",
   "execution_count": null,
   "id": "58d5d9ca",
   "metadata": {
    "id": "58d5d9ca"
   },
   "outputs": [],
   "source": [
    "all_keyframe = glob('D:\\\\AIC\\\\Keyframes\\\\*\\\\keyframes\\\\*\\\\*.jpg')\n",
    "video_keyframe_dict = {}\n",
    "all_video = glob('D:\\\\AIC\\\\Keyframes\\\\*\\\\keyframes\\\\*')\n",
    "all_video = [v.rsplit('\\\\',1)[-1] for v in all_video]"
   ]
  },
  {
   "cell_type": "markdown",
   "id": "53460b70",
   "metadata": {
    "id": "53460b70"
   },
   "source": [
    "Đọc thông tin clip embedding được cung cấp.\n",
    "\n",
    "Lưu ý: Các bạn cần tải đúng bản CLIP embedding từ model **CLIP ViT-B/32**"
   ]
  },
  {
   "cell_type": "markdown",
   "id": "cb927629",
   "metadata": {
    "id": "cb927629"
   },
   "source": [
    "Tạo dictionary `video_keyframe_dict` với `video_keyframe_dict[video]` thông tin danh sách `keyframe` của `video`"
   ]
  },
  {
   "cell_type": "code",
   "execution_count": null,
   "id": "f33da133",
   "metadata": {
    "id": "f33da133"
   },
   "outputs": [],
   "source": [
    "for kf in all_keyframe:\n",
    "    _, vid, kf = kf[:-4].rsplit('\\\\',2)\n",
    "    if vid not in video_keyframe_dict.keys():\n",
    "        video_keyframe_dict[vid] = [kf]\n",
    "    else:\n",
    "        video_keyframe_dict[vid].append(kf)"
   ]
  },
  {
   "cell_type": "markdown",
   "id": "faefe0bf",
   "metadata": {
    "id": "faefe0bf"
   },
   "source": [
    "Do thông tin vector CLIP embedding được cung cấp được lưu theo từng video nhầm mục đích tối ưu thời gian đọc dữ liệu. Cần sort lại danh sách `keyframe` của từng `video` để đảm bảo thứ tự đọc đúng với vector embedding được cung cấp."
   ]
  },
  {
   "cell_type": "code",
   "execution_count": null,
   "id": "4b0fad7a",
   "metadata": {
    "id": "4b0fad7a"
   },
   "outputs": [],
   "source": [
    "for k,v in video_keyframe_dict.items():\n",
    "    video_keyframe_dict[k] = sorted(v)"
   ]
  },
  {
   "cell_type": "markdown",
   "id": "9d99d121",
   "metadata": {
    "id": "9d99d121"
   },
   "source": [
    "Tạo dictionary `embedding_dict` với `embedding_dict[video][keyframe]` lưu thông tin vector CLIP embedding của `keyframe` trong `video` tương ứng"
   ]
  },
  {
   "cell_type": "code",
   "execution_count": null,
   "id": "a5d94d7b",
   "metadata": {
    "id": "a5d94d7b"
   },
   "outputs": [],
   "source": [
    "embedding_dict = {}\n",
    "for v in all_video:\n",
    "    clip_path = f'D:\\\\AIC\\\\clip-features-vit-b32\\\\{v}.npy'\n",
    "    a = np.load(clip_path)\n",
    "    embedding_dict[v] = {}\n",
    "    for i,k in enumerate(video_keyframe_dict[v]):\n",
    "        embedding_dict[v][k] = a[i]\n"
   ]
  },
  {
   "cell_type": "markdown",
   "id": "5ea0432e",
   "metadata": {
    "id": "5ea0432e"
   },
   "source": [
    "Tạo danh sách `clip_embedding` ứng với danh sách `sample` trong `dataset`."
   ]
  },
  {
   "cell_type": "code",
   "execution_count": null,
   "id": "1ad16b5c",
   "metadata": {
    "id": "1ad16b5c"
   },
   "outputs": [],
   "source": [
    "clip_embeddings = []\n",
    "for sample in dataset:\n",
    "    clip_embedding = embedding_dict[sample['video']][sample['frameid']]\n",
    "    clip_embeddings.append(clip_embedding)\n"
   ]
  },
  {
   "cell_type": "code",
   "execution_count": null,
   "id": "655d2feb",
   "metadata": {
    "id": "655d2feb"
   },
   "outputs": [],
   "source": [
    "fob.compute_similarity(\n",
    "    dataset,\n",
    "    model=\"clip-vit-base32-torch\",      # store model's name for future use\n",
    "    embeddings=clip_embeddings,          # precomputed image embeddings\n",
    "    brain_key=\"img_sim\",\n",
    ")"
   ]
  },
  {
   "cell_type": "markdown",
   "id": "99223338",
   "metadata": {
    "id": "99223338"
   },
   "source": [
    "## Từ đây các bạn có thể thử các tính năng search, filter trên ứng dụng fiftyone."
   ]
  },
  {
   "cell_type": "code",
   "execution_count": null,
   "id": "46605386",
   "metadata": {
    "id": "46605386"
   },
   "outputs": [],
   "source": [
    "# Bạn cần phải cài version umap-learn hỗ trợ.\n",
    "# fob.compute_visualization(\n",
    "#     dataset,\n",
    "#     embeddings=clip_embeddings,\n",
    "#     brain_key=\"img_viz\"\n",
    "# )\n"
   ]
  },
  {
   "cell_type": "markdown",
   "id": "381972d8",
   "metadata": {
    "id": "381972d8"
   },
   "source": []
  }
 ],
 "metadata": {
  "colab": {
   "provenance": []
  },
  "kernelspec": {
   "display_name": "Python 3 (ipykernel)",
   "language": "python",
   "name": "python3"
  },
  "language_info": {
   "codemirror_mode": {
    "name": "ipython",
    "version": 3
   },
   "file_extension": ".py",
   "mimetype": "text/x-python",
   "name": "python",
   "nbconvert_exporter": "python",
   "pygments_lexer": "ipython3",
   "version": "3.8.18"
  }
 },
 "nbformat": 4,
 "nbformat_minor": 5
}
