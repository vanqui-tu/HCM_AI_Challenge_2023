{
 "cells": [
  {
   "cell_type": "code",
   "execution_count": null,
   "metadata": {},
   "outputs": [],
   "source": [
    "# Install vector database\n",
    "# ! pip install vectordb"
   ]
  },
  {
   "cell_type": "markdown",
   "metadata": {},
   "source": [
    "## Import modules"
   ]
  },
  {
   "cell_type": "code",
   "execution_count": 38,
   "metadata": {},
   "outputs": [],
   "source": [
    "import os\n",
    "import numpy as np\n",
    "from tqdm.notebook import trange, tqdm\n",
    "from PIL import Image, ImageFont, ImageDraw \n",
    "import torch\n",
    "import clip\n",
    "import json as js\n",
    "from docarray import DocList, BaseDoc\n",
    "from docarray.typing import NdArray\n",
    "import numpy as np\n",
    "from vectordb import InMemoryExactNNVectorDB, HNSWVectorDB\n",
    "from IPython.display import clear_output\n",
    "from natsort import natsorted\n",
    "import pandas as pd\n",
    "from typing import List\n",
    "import webbrowser\n",
    "import shutil\n",
    "import random\n"
   ]
  },
  {
   "cell_type": "markdown",
   "metadata": {},
   "source": [
    "## Constants"
   ]
  },
  {
   "cell_type": "code",
   "execution_count": 39,
   "metadata": {},
   "outputs": [
    {
     "name": "stdout",
     "output_type": "stream",
     "text": [
      "cuda\n"
     ]
    }
   ],
   "source": [
    "MODEL = \"ViT-B/32\"\n",
    "DEVICE = \"cuda\" if torch.cuda.is_available() else \"cpu\"\n",
    "print(DEVICE)\n",
    "\n",
    "METADATA_PATH = \"../data/metadata/\"\n",
    "KEYFRAME_PATH = \"../data/keyframes/\"\n",
    "FEATURE_PATH = \"../data/features/\"\n",
    "MAP_KEYFRAMES = \"../data/map-keyframes/\"\n",
    "\n",
    "WORKSPACE = \"./vectordb\""
   ]
  },
  {
   "cell_type": "markdown",
   "metadata": {},
   "source": [
    "## Re-formating Dataset"
   ]
  },
  {
   "cell_type": "markdown",
   "metadata": {},
   "source": [
    "#### Get video names"
   ]
  },
  {
   "cell_type": "code",
   "execution_count": 40,
   "metadata": {},
   "outputs": [],
   "source": [
    "LEN_OF_KEYFRAME_NAME = 4"
   ]
  },
  {
   "cell_type": "code",
   "execution_count": 41,
   "metadata": {},
   "outputs": [
    {
     "name": "stdout",
     "output_type": "stream",
     "text": [
      "['L01_V001', 'L01_V002', 'L01_V003', 'L01_V004', 'L01_V005', 'L01_V006', 'L01_V007', 'L01_V008', 'L01_V009', 'L01_V010', 'L01_V011', 'L01_V012', 'L01_V013', 'L01_V014', 'L01_V015', 'L01_V016', 'L01_V017', 'L01_V018', 'L01_V019', 'L01_V020', 'L01_V021', 'L01_V022', 'L01_V023', 'L01_V024', 'L01_V025', 'L01_V026', 'L01_V027', 'L01_V028', 'L01_V029', 'L01_V030', 'L01_V031', 'L02_V001', 'L02_V002', 'L02_V003', 'L02_V004', 'L02_V005', 'L02_V006', 'L02_V007', 'L02_V008', 'L02_V009', 'L02_V010', 'L02_V011', 'L02_V012', 'L02_V013', 'L02_V014', 'L02_V015', 'L02_V016', 'L02_V017', 'L02_V018', 'L02_V019', 'L02_V020', 'L02_V021', 'L02_V022', 'L02_V023', 'L02_V024', 'L02_V025', 'L02_V026', 'L02_V027', 'L02_V028', 'L02_V029', 'L02_V030', 'L03_V001', 'L03_V002', 'L03_V003', 'L03_V004', 'L03_V005', 'L03_V006', 'L03_V007', 'L03_V008', 'L03_V009', 'L03_V010', 'L03_V011', 'L03_V012', 'L03_V013', 'L03_V014', 'L03_V015', 'L03_V016', 'L03_V017', 'L03_V018', 'L03_V019', 'L03_V020', 'L03_V021', 'L03_V022', 'L03_V023', 'L03_V024', 'L03_V025', 'L03_V026', 'L03_V027', 'L03_V028', 'L03_V029', 'L03_V030', 'L03_V031', 'L04_V001', 'L04_V002', 'L04_V003', 'L04_V004', 'L04_V005', 'L04_V006', 'L04_V007', 'L04_V008', 'L04_V009', 'L04_V010', 'L04_V011', 'L04_V012', 'L04_V013', 'L04_V014', 'L04_V015', 'L04_V016', 'L04_V017', 'L04_V018', 'L04_V019', 'L04_V020', 'L04_V021', 'L04_V022', 'L04_V023', 'L04_V024', 'L04_V025', 'L04_V026', 'L04_V027', 'L04_V028', 'L04_V029', 'L04_V030', 'L04_V031', 'L05_V001', 'L05_V002', 'L05_V003', 'L05_V004', 'L05_V005', 'L05_V006', 'L05_V007', 'L05_V008', 'L05_V009', 'L05_V010', 'L05_V011', 'L05_V012', 'L05_V013', 'L05_V014', 'L05_V015', 'L05_V016', 'L05_V017', 'L05_V018', 'L05_V019', 'L05_V020', 'L05_V021', 'L05_V022', 'L05_V023', 'L05_V024', 'L05_V025', 'L05_V026', 'L05_V027', 'L05_V028', 'L06_V001', 'L06_V002', 'L06_V003', 'L06_V004', 'L06_V005', 'L06_V006', 'L06_V007', 'L06_V008', 'L06_V009', 'L06_V010', 'L06_V011', 'L06_V012', 'L06_V013', 'L06_V014', 'L06_V015', 'L06_V016', 'L06_V017', 'L06_V018', 'L06_V019', 'L06_V020', 'L06_V021', 'L06_V022', 'L06_V023', 'L06_V024', 'L06_V025', 'L06_V026', 'L06_V027', 'L06_V028', 'L07_V001', 'L07_V002', 'L07_V003', 'L07_V004', 'L07_V005', 'L07_V006', 'L07_V007', 'L07_V008', 'L07_V009', 'L07_V010', 'L07_V011', 'L07_V012', 'L07_V013', 'L07_V014', 'L07_V015', 'L07_V016', 'L07_V017', 'L07_V018', 'L07_V019', 'L07_V020', 'L07_V021', 'L07_V022', 'L07_V023', 'L07_V024', 'L07_V025', 'L07_V026', 'L07_V027', 'L07_V028', 'L07_V029', 'L07_V030', 'L07_V031', 'L08_V001', 'L08_V002', 'L08_V003', 'L08_V004', 'L08_V005', 'L08_V006', 'L08_V007', 'L08_V008', 'L08_V009', 'L08_V010', 'L08_V011', 'L08_V012', 'L08_V013', 'L08_V014', 'L08_V015', 'L08_V016', 'L08_V017', 'L08_V018', 'L08_V019', 'L08_V020', 'L08_V021', 'L08_V022', 'L08_V023', 'L08_V024', 'L08_V025', 'L08_V026', 'L08_V027', 'L08_V028', 'L08_V029', 'L09_V001', 'L09_V002', 'L09_V003', 'L09_V004', 'L09_V005', 'L09_V006', 'L09_V007', 'L09_V008', 'L09_V009', 'L09_V010', 'L09_V011', 'L09_V012', 'L09_V013', 'L09_V014', 'L09_V015', 'L09_V016', 'L09_V017', 'L09_V018', 'L09_V019', 'L09_V020', 'L09_V021', 'L09_V022', 'L09_V023', 'L09_V024', 'L09_V025', 'L09_V026', 'L09_V027', 'L09_V028', 'L09_V029', 'L09_V030', 'L10_V001', 'L10_V002', 'L10_V003', 'L10_V004', 'L10_V005', 'L10_V006', 'L10_V007', 'L10_V008', 'L10_V009', 'L10_V010', 'L10_V011', 'L10_V012', 'L10_V013', 'L10_V014', 'L10_V015', 'L10_V016', 'L10_V017', 'L10_V018', 'L10_V019', 'L10_V020', 'L10_V021', 'L10_V022', 'L10_V023', 'L10_V024', 'L10_V025', 'L10_V026', 'L10_V027', 'L10_V028', 'L10_V029', 'L10_V030']\n"
     ]
    }
   ],
   "source": [
    "video_names = [name for name in os.listdir(KEYFRAME_PATH) if name != \".gitkeep\"]\n",
    "print(video_names)"
   ]
  },
  {
   "cell_type": "code",
   "execution_count": 42,
   "metadata": {},
   "outputs": [],
   "source": [
    "for name in video_names:\n",
    "    keyframes = [path for path in os.listdir(os.path.join(KEYFRAME_PATH, name))]\n",
    "    for kf in keyframes:\n",
    "        img_name = kf.split(\".\")[0]\n",
    "        if len(img_name) != LEN_OF_KEYFRAME_NAME:\n",
    "            changed_path = os.path.join(KEYFRAME_PATH, name, img_name.zfill(4) + \".jpg\")\n",
    "            old_path = os.path.join(KEYFRAME_PATH, name, kf)\n",
    "            print(f\"Change {old_path} to {changed_path}\")\n",
    "            os.rename(old_path, changed_path)\n",
    "            "
   ]
  },
  {
   "cell_type": "markdown",
   "metadata": {},
   "source": [
    "## Text embedding"
   ]
  },
  {
   "cell_type": "code",
   "execution_count": 43,
   "metadata": {},
   "outputs": [],
   "source": [
    "class TextEmbedding():\n",
    "  def __init__(self):\n",
    "    self.device = DEVICE\n",
    "    self.model, _ = clip.load(MODEL, device=self.device)\n",
    "\n",
    "  def __call__(self, text: str) -> np.ndarray:\n",
    "    text_inputs = clip.tokenize([text]).to(self.device)\n",
    "    with torch.no_grad():\n",
    "        text_feature = self.model.encode_text(text_inputs)[0]\n",
    "    return text_feature.detach().cpu().numpy()\n",
    "  \n",
    "  def __call__(self, texts) -> np.ndarray:\n",
    "    text_inputs = clip.tokenize(texts).to(self.device)\n",
    "    with torch.no_grad():\n",
    "        text_feature = self.model.encode_text(text_inputs)[0]\n",
    "    return text_feature.detach().cpu().numpy()\n"
   ]
  },
  {
   "cell_type": "code",
   "execution_count": 44,
   "metadata": {},
   "outputs": [],
   "source": [
    "text_embedding = TextEmbedding()"
   ]
  },
  {
   "cell_type": "code",
   "execution_count": null,
   "metadata": {},
   "outputs": [],
   "source": [
    "query = \"A blue sky in the background\"\n",
    "query_feat = text_embedding(query)\n",
    "print(len(query_feat))"
   ]
  },
  {
   "cell_type": "code",
   "execution_count": null,
   "metadata": {},
   "outputs": [],
   "source": [
    "querys = [\"A blue sky in the background\", \"People hangout at the beach\", \"Birds are flying in the sky\"]\n",
    "querys_feat = text_embedding(querys)\n",
    "print(len(querys_feat))"
   ]
  },
  {
   "cell_type": "markdown",
   "metadata": {},
   "source": [
    "## Vector Database"
   ]
  },
  {
   "cell_type": "markdown",
   "metadata": {},
   "source": [
    "### Frame Document Class"
   ]
  },
  {
   "cell_type": "code",
   "execution_count": 45,
   "metadata": {},
   "outputs": [],
   "source": [
    "class FrameDoc(BaseDoc):\n",
    "  embedding: NdArray[512]\n",
    "  video_name = \"\"\n",
    "  image_path = \"\"\n",
    "  keyframe_id = 0\n",
    "  actual_idx = 0\n",
    "  metadata = {}\n",
    "  \n",
    "  def __str__(self):\n",
    "    return f\"\"\"\n",
    "            Video name: {self.video_name}\n",
    "            Image path: {self.image_path}\n",
    "            Keyframe Id: {self.keyframe_id}\n",
    "            Actual keyframe idx: {self.actual_idx}\n",
    "            Metadata: {self.metadata}\n",
    "          \"\"\""
   ]
  },
  {
   "cell_type": "markdown",
   "metadata": {},
   "source": [
    "##  Database Handler"
   ]
  },
  {
   "cell_type": "code",
   "execution_count": 46,
   "metadata": {},
   "outputs": [],
   "source": [
    "class VectorDB: \n",
    "    text_embedding = TextEmbedding()\n",
    "    workspace = os.getcwd()\n",
    "    method = \"ANN\"\n",
    "    def __init__(self, method=\"ANN\"):\n",
    "        # Check if parent workspace exists\n",
    "        if not os.path.isdir(WORKSPACE):\n",
    "            os.mkdir(WORKSPACE, 0o666)\n",
    "        # Create new workspae\n",
    "        exits = [int(name.rsplit(\"_\")[1]) for name in os.listdir(WORKSPACE)]\n",
    "        while True:\n",
    "            id = random.getrandbits(128)\n",
    "            if id not in exits:\n",
    "                self.workspace = os.path.join(self.workspace, WORKSPACE, \"DB_\" + str(id))\n",
    "                break\n",
    "            \n",
    "        self.method = method\n",
    "        #   Approximate Nearest Neighbour based on HNSW algorithm\n",
    "        if method == \"ANN\":\n",
    "            self.DB = HNSWVectorDB[FrameDoc](workspace=self.workspace)\n",
    "            \n",
    "        # Exhaustive search on the embeddings\n",
    "        else:\n",
    "            self.DB = InMemoryExactNNVectorDB[FrameDoc](workspace=self.workspace)\n",
    "        \n",
    "        \n",
    "    def index(self, doc_list: List[FrameDoc]):    \n",
    "        # Index database\n",
    "        self.DB.index(inputs=DocList[FrameDoc](doc_list))\n",
    "        \n",
    "    def search(self, query_text: str, topk=100):\n",
    "        query_doc = FrameDoc(embedding=self.text_embedding(query_text))\n",
    "        return self.DB.search(inputs=DocList[FrameDoc]([query_doc]), limit=topk)[0].matches\n",
    "    \n",
    "    def delete(self, del_doc_list: List[FrameDoc]):\n",
    "        self.DB.delete(docs=DocList[FrameDoc](del_doc_list))\n",
    "        \n",
    "    # def destroy(self):\n",
    "    #     shutil.rmtree(self.workspace)\n",
    "    \n",
    "    # def reindex(self, doc_list: List[FrameDoc]):\n",
    "    #     self.destroy()\n",
    "    #     if self.method == \"ANN\":\n",
    "    #         self.DB = HNSWVectorDB[FrameDoc](workspace=self.workspace)\n",
    "    #     else:\n",
    "    #         self.DB = InMemoryExactNNVectorDB[FrameDoc](workspace=self.workspace)\n",
    "    #     self.index(doc_list)\n",
    "        \n",
    "        \n",
    "        "
   ]
  },
  {
   "cell_type": "markdown",
   "metadata": {},
   "source": [
    "### Needed functions "
   ]
  },
  {
   "cell_type": "markdown",
   "metadata": {},
   "source": [
    "### Get all features files"
   ]
  },
  {
   "cell_type": "code",
   "execution_count": 47,
   "metadata": {},
   "outputs": [],
   "source": [
    "def get_all_feats():\n",
    "    return [os.path.join(FEATURE_PATH, file) for file in os.listdir(FEATURE_PATH) if file.endswith(\".npy\")]"
   ]
  },
  {
   "cell_type": "code",
   "execution_count": 48,
   "metadata": {},
   "outputs": [
    {
     "name": "stdout",
     "output_type": "stream",
     "text": [
      "['../data/features/L01_V001.npy', '../data/features/L01_V002.npy', '../data/features/L01_V003.npy', '../data/features/L01_V004.npy', '../data/features/L01_V005.npy', '../data/features/L01_V006.npy', '../data/features/L01_V007.npy', '../data/features/L01_V008.npy', '../data/features/L01_V009.npy', '../data/features/L01_V010.npy', '../data/features/L01_V011.npy', '../data/features/L01_V012.npy', '../data/features/L01_V013.npy', '../data/features/L01_V014.npy', '../data/features/L01_V015.npy', '../data/features/L01_V016.npy', '../data/features/L01_V017.npy', '../data/features/L01_V018.npy', '../data/features/L01_V019.npy', '../data/features/L01_V020.npy', '../data/features/L01_V021.npy', '../data/features/L01_V022.npy', '../data/features/L01_V023.npy', '../data/features/L01_V024.npy', '../data/features/L01_V025.npy', '../data/features/L01_V026.npy', '../data/features/L01_V027.npy', '../data/features/L01_V028.npy', '../data/features/L01_V029.npy', '../data/features/L01_V030.npy', '../data/features/L01_V031.npy', '../data/features/L02_V001.npy', '../data/features/L02_V002.npy', '../data/features/L02_V003.npy', '../data/features/L02_V004.npy', '../data/features/L02_V005.npy', '../data/features/L02_V006.npy', '../data/features/L02_V007.npy', '../data/features/L02_V008.npy', '../data/features/L02_V009.npy', '../data/features/L02_V010.npy', '../data/features/L02_V011.npy', '../data/features/L02_V012.npy', '../data/features/L02_V013.npy', '../data/features/L02_V014.npy', '../data/features/L02_V015.npy', '../data/features/L02_V016.npy', '../data/features/L02_V017.npy', '../data/features/L02_V018.npy', '../data/features/L02_V019.npy', '../data/features/L02_V020.npy', '../data/features/L02_V021.npy', '../data/features/L02_V022.npy', '../data/features/L02_V023.npy', '../data/features/L02_V024.npy', '../data/features/L02_V025.npy', '../data/features/L02_V026.npy', '../data/features/L02_V027.npy', '../data/features/L02_V028.npy', '../data/features/L02_V029.npy', '../data/features/L02_V030.npy', '../data/features/L03_V001.npy', '../data/features/L03_V002.npy', '../data/features/L03_V003.npy', '../data/features/L03_V004.npy', '../data/features/L03_V005.npy', '../data/features/L03_V006.npy', '../data/features/L03_V007.npy', '../data/features/L03_V008.npy', '../data/features/L03_V009.npy', '../data/features/L03_V010.npy', '../data/features/L03_V011.npy', '../data/features/L03_V012.npy', '../data/features/L03_V013.npy', '../data/features/L03_V014.npy', '../data/features/L03_V015.npy', '../data/features/L03_V016.npy', '../data/features/L03_V017.npy', '../data/features/L03_V018.npy', '../data/features/L03_V019.npy', '../data/features/L03_V020.npy', '../data/features/L03_V021.npy', '../data/features/L03_V022.npy', '../data/features/L03_V023.npy', '../data/features/L03_V024.npy', '../data/features/L03_V025.npy', '../data/features/L03_V026.npy', '../data/features/L03_V027.npy', '../data/features/L03_V028.npy', '../data/features/L03_V029.npy', '../data/features/L03_V030.npy', '../data/features/L03_V031.npy', '../data/features/L04_V001.npy', '../data/features/L04_V002.npy', '../data/features/L04_V003.npy', '../data/features/L04_V004.npy', '../data/features/L04_V005.npy', '../data/features/L04_V006.npy', '../data/features/L04_V007.npy', '../data/features/L04_V008.npy', '../data/features/L04_V009.npy', '../data/features/L04_V010.npy', '../data/features/L04_V011.npy', '../data/features/L04_V012.npy', '../data/features/L04_V013.npy', '../data/features/L04_V014.npy', '../data/features/L04_V015.npy', '../data/features/L04_V016.npy', '../data/features/L04_V017.npy', '../data/features/L04_V018.npy', '../data/features/L04_V019.npy', '../data/features/L04_V020.npy', '../data/features/L04_V021.npy', '../data/features/L04_V022.npy', '../data/features/L04_V023.npy', '../data/features/L04_V024.npy', '../data/features/L04_V025.npy', '../data/features/L04_V026.npy', '../data/features/L04_V027.npy', '../data/features/L04_V028.npy', '../data/features/L04_V029.npy', '../data/features/L04_V030.npy', '../data/features/L04_V031.npy', '../data/features/L05_V001.npy', '../data/features/L05_V002.npy', '../data/features/L05_V003.npy', '../data/features/L05_V004.npy', '../data/features/L05_V005.npy', '../data/features/L05_V006.npy', '../data/features/L05_V007.npy', '../data/features/L05_V008.npy', '../data/features/L05_V009.npy', '../data/features/L05_V010.npy', '../data/features/L05_V011.npy', '../data/features/L05_V012.npy', '../data/features/L05_V013.npy', '../data/features/L05_V014.npy', '../data/features/L05_V015.npy', '../data/features/L05_V016.npy', '../data/features/L05_V017.npy', '../data/features/L05_V018.npy', '../data/features/L05_V019.npy', '../data/features/L05_V020.npy', '../data/features/L05_V021.npy', '../data/features/L05_V022.npy', '../data/features/L05_V023.npy', '../data/features/L05_V024.npy', '../data/features/L05_V025.npy', '../data/features/L05_V026.npy', '../data/features/L05_V027.npy', '../data/features/L05_V028.npy', '../data/features/L06_V001.npy', '../data/features/L06_V002.npy', '../data/features/L06_V003.npy', '../data/features/L06_V004.npy', '../data/features/L06_V005.npy', '../data/features/L06_V006.npy', '../data/features/L06_V007.npy', '../data/features/L06_V008.npy', '../data/features/L06_V009.npy', '../data/features/L06_V010.npy', '../data/features/L06_V011.npy', '../data/features/L06_V012.npy', '../data/features/L06_V013.npy', '../data/features/L06_V014.npy', '../data/features/L06_V015.npy', '../data/features/L06_V016.npy', '../data/features/L06_V017.npy', '../data/features/L06_V018.npy', '../data/features/L06_V019.npy', '../data/features/L06_V020.npy', '../data/features/L06_V021.npy', '../data/features/L06_V022.npy', '../data/features/L06_V023.npy', '../data/features/L06_V024.npy', '../data/features/L06_V025.npy', '../data/features/L06_V026.npy', '../data/features/L06_V027.npy', '../data/features/L06_V028.npy', '../data/features/L07_V001.npy', '../data/features/L07_V002.npy', '../data/features/L07_V003.npy', '../data/features/L07_V004.npy', '../data/features/L07_V005.npy', '../data/features/L07_V006.npy', '../data/features/L07_V007.npy', '../data/features/L07_V008.npy', '../data/features/L07_V009.npy', '../data/features/L07_V010.npy', '../data/features/L07_V011.npy', '../data/features/L07_V012.npy', '../data/features/L07_V013.npy', '../data/features/L07_V014.npy', '../data/features/L07_V015.npy', '../data/features/L07_V016.npy', '../data/features/L07_V017.npy', '../data/features/L07_V018.npy', '../data/features/L07_V019.npy', '../data/features/L07_V020.npy', '../data/features/L07_V021.npy', '../data/features/L07_V022.npy', '../data/features/L07_V023.npy', '../data/features/L07_V024.npy', '../data/features/L07_V025.npy', '../data/features/L07_V026.npy', '../data/features/L07_V027.npy', '../data/features/L07_V028.npy', '../data/features/L07_V029.npy', '../data/features/L07_V030.npy', '../data/features/L07_V031.npy', '../data/features/L08_V001.npy', '../data/features/L08_V002.npy', '../data/features/L08_V003.npy', '../data/features/L08_V004.npy', '../data/features/L08_V005.npy', '../data/features/L08_V006.npy', '../data/features/L08_V007.npy', '../data/features/L08_V008.npy', '../data/features/L08_V009.npy', '../data/features/L08_V010.npy', '../data/features/L08_V011.npy', '../data/features/L08_V012.npy', '../data/features/L08_V013.npy', '../data/features/L08_V014.npy', '../data/features/L08_V015.npy', '../data/features/L08_V016.npy', '../data/features/L08_V017.npy', '../data/features/L08_V018.npy', '../data/features/L08_V019.npy', '../data/features/L08_V020.npy', '../data/features/L08_V021.npy', '../data/features/L08_V022.npy', '../data/features/L08_V023.npy', '../data/features/L08_V024.npy', '../data/features/L08_V025.npy', '../data/features/L08_V026.npy', '../data/features/L08_V027.npy', '../data/features/L08_V028.npy', '../data/features/L08_V029.npy', '../data/features/L09_V001.npy', '../data/features/L09_V002.npy', '../data/features/L09_V003.npy', '../data/features/L09_V004.npy', '../data/features/L09_V005.npy', '../data/features/L09_V006.npy', '../data/features/L09_V007.npy', '../data/features/L09_V008.npy', '../data/features/L09_V009.npy', '../data/features/L09_V010.npy', '../data/features/L09_V011.npy', '../data/features/L09_V012.npy', '../data/features/L09_V013.npy', '../data/features/L09_V014.npy', '../data/features/L09_V015.npy', '../data/features/L09_V016.npy', '../data/features/L09_V017.npy', '../data/features/L09_V018.npy', '../data/features/L09_V019.npy', '../data/features/L09_V020.npy', '../data/features/L09_V021.npy', '../data/features/L09_V022.npy', '../data/features/L09_V023.npy', '../data/features/L09_V024.npy', '../data/features/L09_V025.npy', '../data/features/L09_V026.npy', '../data/features/L09_V027.npy', '../data/features/L09_V028.npy', '../data/features/L09_V029.npy', '../data/features/L09_V030.npy', '../data/features/L10_V001.npy', '../data/features/L10_V002.npy', '../data/features/L10_V003.npy', '../data/features/L10_V004.npy', '../data/features/L10_V005.npy', '../data/features/L10_V006.npy', '../data/features/L10_V007.npy', '../data/features/L10_V008.npy', '../data/features/L10_V009.npy', '../data/features/L10_V010.npy', '../data/features/L10_V011.npy', '../data/features/L10_V012.npy', '../data/features/L10_V013.npy', '../data/features/L10_V014.npy', '../data/features/L10_V015.npy', '../data/features/L10_V016.npy', '../data/features/L10_V017.npy', '../data/features/L10_V018.npy', '../data/features/L10_V019.npy', '../data/features/L10_V020.npy', '../data/features/L10_V021.npy', '../data/features/L10_V022.npy', '../data/features/L10_V023.npy', '../data/features/L10_V024.npy', '../data/features/L10_V025.npy', '../data/features/L10_V026.npy', '../data/features/L10_V027.npy', '../data/features/L10_V028.npy', '../data/features/L10_V029.npy', '../data/features/L10_V030.npy', '../data/features/L11_V001.npy', '../data/features/L11_V002.npy', '../data/features/L11_V003.npy', '../data/features/L11_V004.npy', '../data/features/L11_V005.npy', '../data/features/L11_V006.npy', '../data/features/L11_V007.npy', '../data/features/L11_V008.npy', '../data/features/L11_V009.npy', '../data/features/L11_V010.npy', '../data/features/L11_V011.npy', '../data/features/L11_V012.npy', '../data/features/L11_V013.npy', '../data/features/L11_V014.npy', '../data/features/L11_V015.npy', '../data/features/L11_V016.npy', '../data/features/L11_V017.npy', '../data/features/L11_V018.npy', '../data/features/L11_V019.npy', '../data/features/L11_V020.npy', '../data/features/L11_V021.npy', '../data/features/L11_V022.npy', '../data/features/L11_V023.npy', '../data/features/L11_V024.npy', '../data/features/L11_V025.npy', '../data/features/L11_V026.npy', '../data/features/L11_V027.npy', '../data/features/L11_V028.npy', '../data/features/L11_V029.npy', '../data/features/L11_V030.npy', '../data/features/L11_V031.npy', '../data/features/L12_V001.npy', '../data/features/L12_V002.npy', '../data/features/L12_V003.npy', '../data/features/L12_V004.npy', '../data/features/L12_V005.npy', '../data/features/L12_V006.npy', '../data/features/L12_V007.npy', '../data/features/L12_V008.npy', '../data/features/L12_V009.npy', '../data/features/L12_V010.npy', '../data/features/L12_V011.npy', '../data/features/L12_V012.npy', '../data/features/L12_V013.npy', '../data/features/L12_V014.npy', '../data/features/L12_V015.npy', '../data/features/L12_V016.npy', '../data/features/L12_V017.npy', '../data/features/L12_V018.npy', '../data/features/L12_V019.npy', '../data/features/L12_V020.npy', '../data/features/L12_V021.npy', '../data/features/L12_V022.npy', '../data/features/L12_V023.npy', '../data/features/L12_V024.npy', '../data/features/L12_V025.npy', '../data/features/L12_V026.npy', '../data/features/L12_V027.npy', '../data/features/L12_V028.npy', '../data/features/L12_V029.npy', '../data/features/L12_V030.npy', '../data/features/L12_V031.npy', '../data/features/L13_V001.npy', '../data/features/L13_V002.npy', '../data/features/L13_V003.npy', '../data/features/L13_V004.npy', '../data/features/L13_V005.npy', '../data/features/L13_V006.npy', '../data/features/L13_V007.npy', '../data/features/L13_V008.npy', '../data/features/L13_V009.npy', '../data/features/L13_V010.npy', '../data/features/L13_V011.npy', '../data/features/L13_V012.npy', '../data/features/L13_V013.npy', '../data/features/L13_V014.npy', '../data/features/L13_V015.npy', '../data/features/L13_V016.npy', '../data/features/L13_V017.npy', '../data/features/L13_V018.npy', '../data/features/L13_V019.npy', '../data/features/L13_V020.npy', '../data/features/L13_V021.npy', '../data/features/L13_V022.npy', '../data/features/L13_V023.npy', '../data/features/L13_V024.npy', '../data/features/L13_V025.npy', '../data/features/L13_V026.npy', '../data/features/L13_V027.npy', '../data/features/L13_V028.npy', '../data/features/L13_V029.npy', '../data/features/L13_V030.npy', '../data/features/L14_V001.npy', '../data/features/L14_V002.npy', '../data/features/L14_V003.npy', '../data/features/L14_V004.npy', '../data/features/L14_V005.npy', '../data/features/L14_V006.npy', '../data/features/L14_V007.npy', '../data/features/L14_V008.npy', '../data/features/L14_V009.npy', '../data/features/L14_V010.npy', '../data/features/L14_V011.npy', '../data/features/L14_V012.npy', '../data/features/L14_V013.npy', '../data/features/L14_V014.npy', '../data/features/L14_V015.npy', '../data/features/L14_V016.npy', '../data/features/L14_V017.npy', '../data/features/L14_V018.npy', '../data/features/L14_V019.npy', '../data/features/L14_V020.npy', '../data/features/L14_V021.npy', '../data/features/L14_V022.npy', '../data/features/L14_V023.npy', '../data/features/L14_V024.npy', '../data/features/L14_V025.npy', '../data/features/L14_V026.npy', '../data/features/L14_V027.npy', '../data/features/L14_V028.npy', '../data/features/L14_V029.npy', '../data/features/L14_V030.npy', '../data/features/L15_V001.npy', '../data/features/L15_V002.npy', '../data/features/L15_V003.npy', '../data/features/L15_V004.npy', '../data/features/L15_V005.npy', '../data/features/L15_V006.npy', '../data/features/L15_V007.npy', '../data/features/L15_V008.npy', '../data/features/L15_V009.npy', '../data/features/L15_V010.npy', '../data/features/L15_V011.npy', '../data/features/L15_V012.npy', '../data/features/L15_V013.npy', '../data/features/L15_V014.npy', '../data/features/L15_V015.npy', '../data/features/L15_V016.npy', '../data/features/L15_V017.npy', '../data/features/L15_V018.npy', '../data/features/L15_V019.npy', '../data/features/L15_V020.npy', '../data/features/L15_V021.npy', '../data/features/L15_V022.npy', '../data/features/L15_V023.npy', '../data/features/L15_V024.npy', '../data/features/L15_V025.npy', '../data/features/L15_V026.npy', '../data/features/L15_V027.npy', '../data/features/L15_V028.npy', '../data/features/L15_V029.npy', '../data/features/L15_V030.npy', '../data/features/L15_V031.npy', '../data/features/L16_V001.npy', '../data/features/L16_V002.npy', '../data/features/L16_V003.npy', '../data/features/L16_V004.npy', '../data/features/L16_V005.npy', '../data/features/L16_V006.npy', '../data/features/L16_V007.npy', '../data/features/L16_V008.npy', '../data/features/L16_V009.npy', '../data/features/L16_V010.npy', '../data/features/L16_V011.npy', '../data/features/L16_V012.npy', '../data/features/L16_V013.npy', '../data/features/L16_V014.npy', '../data/features/L16_V015.npy', '../data/features/L16_V016.npy', '../data/features/L16_V017.npy', '../data/features/L16_V018.npy', '../data/features/L16_V019.npy', '../data/features/L16_V020.npy', '../data/features/L16_V021.npy', '../data/features/L16_V022.npy', '../data/features/L16_V023.npy', '../data/features/L16_V024.npy', '../data/features/L16_V025.npy', '../data/features/L16_V026.npy', '../data/features/L16_V027.npy', '../data/features/L16_V028.npy', '../data/features/L16_V029.npy', '../data/features/L16_V030.npy', '../data/features/L16_V031.npy', '../data/features/L17_V001.npy', '../data/features/L17_V002.npy', '../data/features/L17_V003.npy', '../data/features/L17_V004.npy', '../data/features/L17_V005.npy', '../data/features/L17_V006.npy', '../data/features/L17_V007.npy', '../data/features/L17_V008.npy', '../data/features/L17_V009.npy', '../data/features/L17_V010.npy', '../data/features/L17_V011.npy', '../data/features/L17_V012.npy', '../data/features/L17_V013.npy', '../data/features/L17_V014.npy', '../data/features/L17_V015.npy', '../data/features/L17_V016.npy', '../data/features/L17_V017.npy', '../data/features/L17_V018.npy', '../data/features/L17_V019.npy', '../data/features/L17_V020.npy', '../data/features/L17_V021.npy', '../data/features/L17_V022.npy', '../data/features/L17_V023.npy', '../data/features/L17_V024.npy', '../data/features/L17_V025.npy', '../data/features/L17_V026.npy', '../data/features/L17_V027.npy', '../data/features/L17_V028.npy', '../data/features/L17_V029.npy', '../data/features/L17_V030.npy', '../data/features/L17_V031.npy', '../data/features/L17_V032.npy', '../data/features/L17_V033.npy', '../data/features/L18_V001.npy', '../data/features/L18_V002.npy', '../data/features/L18_V003.npy', '../data/features/L18_V004.npy', '../data/features/L18_V005.npy', '../data/features/L18_V007.npy', '../data/features/L18_V008.npy', '../data/features/L18_V009.npy', '../data/features/L18_V010.npy', '../data/features/L18_V011.npy', '../data/features/L18_V012.npy', '../data/features/L18_V013.npy', '../data/features/L18_V014.npy', '../data/features/L18_V015.npy', '../data/features/L18_V016.npy', '../data/features/L18_V017.npy', '../data/features/L18_V018.npy', '../data/features/L18_V019.npy', '../data/features/L18_V020.npy', '../data/features/L18_V021.npy', '../data/features/L18_V022.npy', '../data/features/L18_V023.npy', '../data/features/L18_V024.npy', '../data/features/L19_V001.npy', '../data/features/L19_V002.npy', '../data/features/L19_V003.npy', '../data/features/L19_V004.npy', '../data/features/L19_V005.npy', '../data/features/L19_V006.npy', '../data/features/L19_V007.npy', '../data/features/L19_V008.npy', '../data/features/L19_V009.npy', '../data/features/L19_V010.npy', '../data/features/L19_V011.npy', '../data/features/L19_V012.npy', '../data/features/L19_V013.npy', '../data/features/L19_V014.npy', '../data/features/L19_V015.npy', '../data/features/L19_V016.npy', '../data/features/L19_V017.npy', '../data/features/L19_V018.npy', '../data/features/L19_V019.npy', '../data/features/L19_V020.npy', '../data/features/L19_V021.npy', '../data/features/L19_V022.npy', '../data/features/L19_V023.npy', '../data/features/L19_V024.npy', '../data/features/L19_V025.npy', '../data/features/L19_V026.npy', '../data/features/L19_V027.npy', '../data/features/L19_V028.npy', '../data/features/L19_V029.npy', '../data/features/L19_V030.npy', '../data/features/L19_V031.npy', '../data/features/L19_V032.npy', '../data/features/L19_V033.npy', '../data/features/L19_V034.npy', '../data/features/L19_V035.npy', '../data/features/L19_V036.npy', '../data/features/L19_V037.npy', '../data/features/L19_V038.npy', '../data/features/L19_V039.npy', '../data/features/L19_V040.npy', '../data/features/L19_V041.npy', '../data/features/L19_V042.npy', '../data/features/L19_V043.npy', '../data/features/L19_V044.npy', '../data/features/L19_V045.npy', '../data/features/L19_V046.npy', '../data/features/L19_V047.npy', '../data/features/L19_V049.npy', '../data/features/L19_V050.npy', '../data/features/L19_V051.npy', '../data/features/L19_V052.npy', '../data/features/L19_V053.npy', '../data/features/L19_V054.npy', '../data/features/L19_V055.npy', '../data/features/L19_V056.npy', '../data/features/L19_V057.npy', '../data/features/L19_V058.npy', '../data/features/L19_V059.npy', '../data/features/L19_V060.npy', '../data/features/L19_V061.npy', '../data/features/L19_V062.npy', '../data/features/L19_V063.npy', '../data/features/L19_V064.npy', '../data/features/L19_V065.npy', '../data/features/L19_V066.npy', '../data/features/L19_V067.npy', '../data/features/L19_V068.npy', '../data/features/L19_V069.npy', '../data/features/L19_V070.npy', '../data/features/L19_V071.npy', '../data/features/L19_V072.npy', '../data/features/L19_V073.npy', '../data/features/L19_V074.npy', '../data/features/L19_V075.npy', '../data/features/L19_V076.npy', '../data/features/L19_V077.npy', '../data/features/L19_V078.npy', '../data/features/L19_V079.npy', '../data/features/L19_V080.npy', '../data/features/L19_V081.npy', '../data/features/L19_V082.npy', '../data/features/L19_V083.npy', '../data/features/L19_V084.npy', '../data/features/L19_V085.npy', '../data/features/L19_V086.npy', '../data/features/L19_V087.npy', '../data/features/L19_V088.npy', '../data/features/L19_V089.npy', '../data/features/L19_V090.npy', '../data/features/L19_V091.npy', '../data/features/L19_V092.npy', '../data/features/L19_V093.npy', '../data/features/L19_V094.npy', '../data/features/L19_V095.npy', '../data/features/L19_V096.npy', '../data/features/L19_V097.npy', '../data/features/L19_V098.npy', '../data/features/L19_V099.npy', '../data/features/L19_V100.npy', '../data/features/L20_V001.npy', '../data/features/L20_V002.npy', '../data/features/L20_V003.npy', '../data/features/L20_V004.npy', '../data/features/L20_V005.npy', '../data/features/L20_V006.npy', '../data/features/L20_V007.npy', '../data/features/L20_V008.npy', '../data/features/L20_V009.npy', '../data/features/L20_V011.npy', '../data/features/L20_V012.npy', '../data/features/L20_V013.npy', '../data/features/L20_V014.npy', '../data/features/L20_V015.npy', '../data/features/L20_V016.npy', '../data/features/L20_V017.npy', '../data/features/L20_V018.npy', '../data/features/L20_V019.npy', '../data/features/L20_V020.npy', '../data/features/L20_V021.npy', '../data/features/L20_V022.npy', '../data/features/L20_V023.npy', '../data/features/L20_V024.npy', '../data/features/L20_V025.npy', '../data/features/L20_V026.npy', '../data/features/L20_V027.npy', '../data/features/L20_V028.npy', '../data/features/L20_V029.npy', '../data/features/L20_V030.npy', '../data/features/L20_V031.npy', '../data/features/L20_V032.npy', '../data/features/L20_V033.npy', '../data/features/L20_V034.npy', '../data/features/L20_V035.npy', '../data/features/L20_V036.npy', '../data/features/L20_V037.npy', '../data/features/L20_V038.npy', '../data/features/L20_V039.npy', '../data/features/L20_V040.npy', '../data/features/L20_V041.npy', '../data/features/L20_V042.npy', '../data/features/L20_V043.npy', '../data/features/L20_V044.npy', '../data/features/L20_V045.npy', '../data/features/L20_V046.npy', '../data/features/L20_V047.npy', '../data/features/L20_V048.npy', '../data/features/L20_V049.npy', '../data/features/L20_V050.npy', '../data/features/L20_V051.npy', '../data/features/L20_V052.npy', '../data/features/L20_V053.npy', '../data/features/L20_V054.npy', '../data/features/L20_V055.npy', '../data/features/L20_V056.npy', '../data/features/L20_V057.npy', '../data/features/L20_V058.npy', '../data/features/L20_V059.npy', '../data/features/L20_V060.npy', '../data/features/L20_V061.npy', '../data/features/L20_V062.npy', '../data/features/L20_V063.npy', '../data/features/L20_V064.npy', '../data/features/L20_V065.npy', '../data/features/L20_V066.npy', '../data/features/L20_V067.npy', '../data/features/L20_V068.npy', '../data/features/L20_V069.npy', '../data/features/L20_V070.npy', '../data/features/L20_V071.npy', '../data/features/L20_V072.npy', '../data/features/L20_V073.npy', '../data/features/L20_V074.npy', '../data/features/L20_V075.npy', '../data/features/L20_V076.npy', '../data/features/L20_V077.npy', '../data/features/L20_V078.npy', '../data/features/L20_V079.npy', '../data/features/L20_V080.npy', '../data/features/L20_V081.npy', '../data/features/L20_V082.npy', '../data/features/L20_V083.npy', '../data/features/L20_V084.npy', '../data/features/L20_V085.npy', '../data/features/L20_V086.npy', '../data/features/L20_V087.npy', '../data/features/L20_V088.npy', '../data/features/L20_V089.npy', '../data/features/L20_V090.npy', '../data/features/L20_V091.npy', '../data/features/L20_V092.npy', '../data/features/L20_V093.npy', '../data/features/L20_V094.npy', '../data/features/L20_V095.npy', '../data/features/L20_V096.npy', '../data/features/L20_V097.npy', '../data/features/L20_V098.npy', '../data/features/L20_V099.npy', '../data/features/L20_V100.npy']\n",
      "737\n"
     ]
    }
   ],
   "source": [
    "all_feat_files = get_all_feats()\n",
    "print(all_feat_files)\n",
    "print(len(all_feat_files))"
   ]
  },
  {
   "cell_type": "markdown",
   "metadata": {},
   "source": [
    "### Create all the Docs"
   ]
  },
  {
   "cell_type": "code",
   "execution_count": 49,
   "metadata": {},
   "outputs": [],
   "source": [
    "def get_all_docs(npy_files):\n",
    "    doc_list = []\n",
    "    for feat_npy in npy_files:\n",
    "        video_name = feat_npy[feat_npy.find(\"L\"):].split('.')[0]\n",
    "        feats_arr = np.load(os.path.join(feat_npy))\n",
    "        # Load metadata\n",
    "        metadata = {}\n",
    "        with open(os.path.join(METADATA_PATH, video_name + \".json\")) as meta_f:\n",
    "            metadata = js.load(meta_f)\n",
    "            map_kf = pd.read_csv(os.path.join(MAP_KEYFRAMES, video_name + \".csv\"), usecols=[\"pts_time\", \"frame_idx\"])\n",
    "            metadata =  {key: metadata[key] for key in [\"publish_date\", \"watch_url\"]}\n",
    "            for frame_idx, feat in enumerate(feats_arr):\n",
    "                image_path = os.path.join(KEYFRAME_PATH, video_name, f\"{frame_idx + 1:04d}.jpg\")\n",
    "                frame_metadata = metadata.copy()\n",
    "                frame_metadata[\"watch_url\"] = frame_metadata[\"watch_url\"]  + \"&t=\" + str(map_kf[\"pts_time\"][frame_idx]) + \"s\"\n",
    "                actual_idx=map_kf[\"frame_idx\"][frame_idx]\n",
    "                doc_list.append(\n",
    "                                FrameDoc(\n",
    "                                        embedding=feat, \n",
    "                                        video_name=video_name, \n",
    "                                        image_path=image_path, \n",
    "                                        keyframe_id=frame_idx+1, \n",
    "                                        actual_idx=actual_idx, \n",
    "                                        metadata=frame_metadata\n",
    "                                        )\n",
    "                                )\n",
    "                \n",
    "    return doc_list"
   ]
  },
  {
   "cell_type": "code",
   "execution_count": 50,
   "metadata": {},
   "outputs": [],
   "source": [
    "doc_list = get_all_docs(all_feat_files)"
   ]
  },
  {
   "cell_type": "code",
   "execution_count": null,
   "metadata": {},
   "outputs": [],
   "source": [
    "print(len(doc_list))"
   ]
  },
  {
   "cell_type": "code",
   "execution_count": null,
   "metadata": {},
   "outputs": [],
   "source": [
    "print(doc_list[100])"
   ]
  },
  {
   "cell_type": "markdown",
   "metadata": {},
   "source": [
    "### Open video at specific times"
   ]
  },
  {
   "cell_type": "code",
   "execution_count": 51,
   "metadata": {},
   "outputs": [],
   "source": [
    "def open_video(doc: FrameDoc):\n",
    "    webbrowser.open(doc.metadata[\"watch_url\"])"
   ]
  },
  {
   "cell_type": "markdown",
   "metadata": {},
   "source": [
    "## Visualization functions"
   ]
  },
  {
   "cell_type": "code",
   "execution_count": 52,
   "metadata": {},
   "outputs": [],
   "source": [
    "def get_images(results):\n",
    "    images = []\n",
    "    for i, res in enumerate(results):\n",
    "        img = Image.open(res.image_path)\n",
    "        draw = ImageDraw.Draw(img)\n",
    "        font = ImageFont.truetype(\"arial.ttf\", 50)\n",
    "        draw.text(xy=(5, 5), text=f\"{i}, {res.video_name}, {res.actual_idx}\", align=\"left\", fill=(255,0,0,255), font=font)\n",
    "        images.append(img)\n",
    "    return images"
   ]
  },
  {
   "cell_type": "code",
   "execution_count": 53,
   "metadata": {},
   "outputs": [],
   "source": [
    "def visualize(imgs: List[Image.Image]) -> None:\n",
    "    rows = len(imgs) // 2 # see more clearly\n",
    "    if not rows:\n",
    "        rows += 1\n",
    "    cols = len(imgs) // rows\n",
    "    if rows * cols < len(imgs):\n",
    "        rows += 1\n",
    "    w, h = imgs[0].size\n",
    "    grid = Image.new('RGB', size=(cols * w, rows * h))\n",
    "    grid_w, grid_h = grid.size\n",
    "\n",
    "    for i, img in enumerate(imgs):\n",
    "        \n",
    "        grid.paste(img, box=(i % cols * w, i // cols * h))\n",
    "\n",
    "    display(grid)"
   ]
  },
  {
   "cell_type": "markdown",
   "metadata": {},
   "source": [
    "## Filter by audio"
   ]
  },
  {
   "cell_type": "code",
   "execution_count": 58,
   "metadata": {},
   "outputs": [],
   "source": [
    "SCRIPT_PATH = \"../data/scripts/\"\n",
    "def check_script(file_content, keywords):\n",
    "    for keyword in keywords:\n",
    "        if (keyword not in file_content):\n",
    "            return False\n",
    "    return True\n",
    "def filter_by_audio(result, keywords):\n",
    "    for i in range(len(result) - 1, -1, -1):\n",
    "        transcript_path = SCRIPT_PATH + result[i].video_name + \".txt\"\n",
    "        try:\n",
    "            with open(transcript_path, 'r') as file:\n",
    "                content = file.read()\n",
    "                if (not check_script(content, keywords)):\n",
    "                    result.pop(i)                 \n",
    "        except FileNotFoundError:\n",
    "            pass\n",
    "    return result\n"
   ]
  },
  {
   "cell_type": "markdown",
   "metadata": {},
   "source": [
    "## DEMO"
   ]
  },
  {
   "cell_type": "markdown",
   "metadata": {},
   "source": [
    "### Create DB"
   ]
  },
  {
   "cell_type": "code",
   "execution_count": 55,
   "metadata": {},
   "outputs": [],
   "source": [
    "DB = VectorDB()\n",
    "DB.index(doc_list)"
   ]
  },
  {
   "cell_type": "markdown",
   "metadata": {},
   "source": [
    "### Query"
   ]
  },
  {
   "cell_type": "markdown",
   "metadata": {},
   "source": [
    "#### Query text"
   ]
  },
  {
   "cell_type": "markdown",
   "metadata": {},
   "source": [
    "Đoạn video về một chiếc xe 7 chỗ biển số màu vàng hiệu Toyota tông vào gốc cây bên lề đường. Bên cạnh chiếc xe có biển báo giao nhau với đường không ưu tiên. Trong đoạn video có cảnh một người bảo vệ áo màu xanh đang nằm trên chiếc xe máy."
   ]
  },
  {
   "cell_type": "markdown",
   "metadata": {},
   "source": [
    "### Filter 1"
   ]
  },
  {
   "cell_type": "code",
   "execution_count": 68,
   "metadata": {},
   "outputs": [],
   "source": [
    "results1 = DB.search(\"Three men are running. On the left of the frame is a row of small green trees next to scattered items, and on the right is a carpet of grass.\", 1000) # Nên lấy nhiều"
   ]
  },
  {
   "cell_type": "code",
   "execution_count": 69,
   "metadata": {},
   "outputs": [
    {
     "name": "stdout",
     "output_type": "stream",
     "text": [
      "34\n"
     ]
    }
   ],
   "source": [
    "filter_by_audio(results1, [\"chạy đua\"])\n",
    "print(len(results1))"
   ]
  },
  {
   "cell_type": "code",
   "execution_count": null,
   "metadata": {},
   "outputs": [],
   "source": [
    "clear_output()\n",
    "images = get_images(results1[:100])"
   ]
  },
  {
   "cell_type": "code",
   "execution_count": null,
   "metadata": {},
   "outputs": [],
   "source": [
    "visualize(images)"
   ]
  },
  {
   "cell_type": "code",
   "execution_count": null,
   "metadata": {},
   "outputs": [],
   "source": [
    "open_video(results1[7])"
   ]
  },
  {
   "cell_type": "markdown",
   "metadata": {},
   "source": [
    "### Filter 2"
   ]
  },
  {
   "cell_type": "code",
   "execution_count": null,
   "metadata": {},
   "outputs": [],
   "source": [
    "DB2 = VectorDB()\n",
    "DB2.index(results1)"
   ]
  },
  {
   "cell_type": "code",
   "execution_count": null,
   "metadata": {},
   "outputs": [],
   "source": [
    "results2 = DB2.search(\"A bag is on the road\", 500)"
   ]
  },
  {
   "cell_type": "code",
   "execution_count": null,
   "metadata": {},
   "outputs": [],
   "source": [
    "clear_output()\n",
    "visualize(get_images(results2[:50]))"
   ]
  },
  {
   "cell_type": "code",
   "execution_count": null,
   "metadata": {},
   "outputs": [],
   "source": [
    "open_video(results2[2])"
   ]
  },
  {
   "cell_type": "code",
   "execution_count": null,
   "metadata": {},
   "outputs": [],
   "source": [
    "print(results2[39])"
   ]
  }
 ],
 "metadata": {
  "kernelspec": {
   "display_name": "Python 3 (ipykernel)",
   "language": "python",
   "name": "python3"
  },
  "language_info": {
   "codemirror_mode": {
    "name": "ipython",
    "version": 3
   },
   "file_extension": ".py",
   "mimetype": "text/x-python",
   "name": "python",
   "nbconvert_exporter": "python",
   "pygments_lexer": "ipython3",
   "version": "3.10.10"
  }
 },
 "nbformat": 4,
 "nbformat_minor": 2
}
