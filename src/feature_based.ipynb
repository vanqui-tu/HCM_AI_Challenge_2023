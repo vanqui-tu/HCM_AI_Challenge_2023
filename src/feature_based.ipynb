{
   "cells": [
      {
         "cell_type": "code",
         "execution_count": 2,
         "metadata": {},
         "outputs": [],
         "source": [
            "# Install vector database\n",
            "# ! pip install vectordb\n",
            "!pip install faiss-cpu\n",
            "!pip install faiss-gpu"
         ]
      },
      {
         "cell_type": "markdown",
         "metadata": {},
         "source": [
            "## Import modules\n"
         ]
      },
      {
         "cell_type": "code",
         "execution_count": 1,
         "metadata": {},
         "outputs": [],
         "source": [
            "import os\n",
            "import numpy as np\n",
            "from tqdm.notebook import trange, tqdm\n",
            "from PIL import Image, ImageFont, ImageDraw\n",
            "import torch\n",
            "import clip\n",
            "import json as js\n",
            "from docarray import DocList, BaseDoc\n",
            "from docarray.typing import NdArray\n",
            "import numpy as np\n",
            "from vectordb import InMemoryExactNNVectorDB, HNSWVectorDB\n",
            "from IPython.display import clear_output, display, HTML\n",
            "from natsort import natsorted\n",
            "import pandas as pd\n",
            "from typing import List\n",
            "import webbrowser\n",
            "import shutil\n",
            "import random\n",
            "from utils import create_html_script, get_all_scripts"
         ]
      },
      {
         "cell_type": "markdown",
         "metadata": {},
         "source": [
            "## Constants\n"
         ]
      },
      {
         "cell_type": "code",
         "execution_count": 3,
         "metadata": {},
         "outputs": [
            {
               "name": "stdout",
               "output_type": "stream",
               "text": [
                  "cuda\n"
               ]
            }
         ],
         "source": [
            "MODEL = \"ViT-B/32\"\n",
            "DEVICE = \"cuda\" if torch.cuda.is_available() else \"cpu\"\n",
            "print(DEVICE)\n",
            "\n",
            "METADATA_PATH = \"../data/metadata/\"\n",
            "KEYFRAME_PATH = \"../data/keyframes/\"\n",
            "FEATURE_PATH = \"../data/features/\"\n",
            "MAP_KEYFRAMES = \"../data/map-keyframes/\"\n",
            "VIDEOS_PATH = \"../data/videos/\"\n",
            "SCRIPT_PATH = \"../data/scripts/\"\n",
            "\n",
            "WORKSPACE = \"./vectordb\""
         ]
      },
      {
         "cell_type": "code",
         "execution_count": 4,
         "metadata": {},
         "outputs": [],
         "source": [
            "# Clean DB if necessery\n",
            "DBs = [os.path.abspath(os.path.join(WORKSPACE, path)) for path in os.listdir(WORKSPACE)]\n",
            "for db in DBs:\n",
            "    shutil.rmtree(db)"
         ]
      },
      {
         "cell_type": "markdown",
         "metadata": {},
         "source": [
            "## Re-formating Dataset\n"
         ]
      },
      {
         "cell_type": "markdown",
         "metadata": {},
         "source": [
            "#### Get video names\n"
         ]
      },
      {
         "cell_type": "code",
         "execution_count": 5,
         "metadata": {},
         "outputs": [],
         "source": [
            "LEN_OF_KEYFRAME_NAME = 4"
         ]
      },
      {
         "cell_type": "code",
         "execution_count": 6,
         "metadata": {},
         "outputs": [],
         "source": [
            "video_names = [name for name in os.listdir(KEYFRAME_PATH) if name != \".gitkeep\"]\n",
            "# print(video_names)"
         ]
      },
      {
         "cell_type": "code",
         "execution_count": 7,
         "metadata": {},
         "outputs": [],
         "source": [
            "for name in video_names:\n",
            "    keyframes = [path for path in os.listdir(os.path.join(KEYFRAME_PATH, name))]\n",
            "    for kf in keyframes:\n",
            "        img_name = kf.split(\".\")[0]\n",
            "        if len(img_name) != LEN_OF_KEYFRAME_NAME:\n",
            "            changed_path = os.path.join(KEYFRAME_PATH, name, img_name.zfill(4) + \".jpg\")\n",
            "            old_path = os.path.join(KEYFRAME_PATH, name, kf)\n",
            "            print(f\"Change {old_path} to {changed_path}\")\n",
            "            os.rename(old_path, changed_path)"
         ]
      },
      {
         "cell_type": "markdown",
         "metadata": {},
         "source": [
            "## Text embedding\n"
         ]
      },
      {
         "cell_type": "code",
         "execution_count": 6,
         "metadata": {},
         "outputs": [],
         "source": [
            "class TextEmbedding:\n",
            "    def __init__(self):\n",
            "        self.device = DEVICE\n",
            "        self.model, _ = clip.load(MODEL, device=self.device)\n",
            "\n",
            "    def __call__(self, text: str) -> np.ndarray:\n",
            "        text_inputs = clip.tokenize([text]).to(self.device)\n",
            "        with torch.no_grad():\n",
            "            text_feature = self.model.encode_text(text_inputs)[0]\n",
            "        return text_feature.detach().cpu().numpy()\n",
            "\n",
            "    def __call__(self, texts) -> np.ndarray:\n",
            "        text_inputs = clip.tokenize(texts).to(self.device)\n",
            "        with torch.no_grad():\n",
            "            text_feature = self.model.encode_text(text_inputs)[0]\n",
            "        return text_feature.detach().cpu().numpy()"
         ]
      },
      {
         "cell_type": "markdown",
         "metadata": {},
         "source": [
            "## Vector Database\n"
         ]
      },
      {
         "cell_type": "markdown",
         "metadata": {},
         "source": [
            "### Frame Document Class\n"
         ]
      },
      {
         "cell_type": "code",
         "execution_count": 7,
         "metadata": {},
         "outputs": [],
         "source": [
            "class FrameDoc(BaseDoc):\n",
            "    embedding: NdArray[512]\n",
            "    video_name = \"\"\n",
            "    image_path = \"\"\n",
            "    keyframe_id = 0\n",
            "    actual_idx = 0\n",
            "    actual_time = 0.0\n",
            "    fps=0\n",
            "    metadata = {}\n",
            "\n",
            "    def __str__(self):\n",
            "        return f\"\"\"\n",
            "            Video name: {self.video_name}\n",
            "            Image path: {self.image_path}\n",
            "            Keyframe Id: {self.keyframe_id}\n",
            "            Actual keyframe idx: {self.actual_idx}\n",
            "            Time: {self.actual_time}\n",
            "            FPS: {self.fps}\n",
            "            Metadata: {self.metadata}\n",
            "          \"\"\""
         ]
      },
      {
         "cell_type": "markdown",
         "metadata": {},
         "source": [
            "## Database Handler\n"
         ]
      },
      {
         "cell_type": "code",
         "execution_count": 8,
         "metadata": {},
         "outputs": [],
         "source": [
            "class VectorDB:\n",
            "    text_embedding = TextEmbedding()\n",
            "    workspace = os.getcwd()\n",
            "    method = \"ANN\"\n",
            "\n",
            "    def __init__(self, method=\"ANN\"):\n",
            "        # Check if parent workspace exists\n",
            "        if not os.path.isdir(WORKSPACE):\n",
            "            os.mkdir(WORKSPACE, 0o666)\n",
            "        # Create new workspae\n",
            "        exits = [int(name.rsplit(\"_\")[1]) for name in os.listdir(WORKSPACE)]\n",
            "        while True:\n",
            "            id = random.getrandbits(128)\n",
            "            if id not in exits:\n",
            "                self.workspace = os.path.join(\n",
            "                    self.workspace, WORKSPACE, \"DB_\" + str(id)\n",
            "                )\n",
            "                break\n",
            "\n",
            "        self.method = method\n",
            "        #   Approximate Nearest Neighbour based on HNSW algorithm\n",
            "        if method == \"ANN\":\n",
            "            self.DB = HNSWVectorDB[FrameDoc](workspace=self.workspace)\n",
            "\n",
            "        # Exhaustive search on the embeddings\n",
            "        else:\n",
            "            self.DB = InMemoryExactNNVectorDB[FrameDoc](workspace=self.workspace)\n",
            "\n",
            "    def index(self, doc_list: List[FrameDoc]):\n",
            "        # Index database\n",
            "        self.DB.index(inputs=DocList[FrameDoc](doc_list))\n",
            "\n",
            "    def search(self, query_text: str, topk=100):\n",
            "        query_doc = FrameDoc(embedding=self.text_embedding(query_text))\n",
            "        return self.DB.search(inputs=DocList[FrameDoc]([query_doc]), limit=topk)[\n",
            "            0\n",
            "        ].matches\n",
            "\n",
            "    def delete(self, del_doc_list: List[FrameDoc]):\n",
            "        self.DB.delete(docs=DocList[FrameDoc](del_doc_list))"
         ]
      },
      {
         "cell_type": "markdown",
         "metadata": {},
         "source": [
            "### Needed functions\n"
         ]
      },
      {
         "cell_type": "markdown",
         "metadata": {},
         "source": [
            "### Get all features files\n"
         ]
      },
      {
         "cell_type": "code",
         "execution_count": 9,
         "metadata": {},
         "outputs": [],
         "source": [
            "def get_all_feats():\n",
            "    return [\n",
            "        os.path.join(FEATURE_PATH, file)\n",
            "        for file in os.listdir(FEATURE_PATH)\n",
            "        if file.endswith(\".npy\")\n",
            "    ]"
         ]
      },
      {
         "cell_type": "code",
         "execution_count": 10,
         "metadata": {},
         "outputs": [
            {
               "name": "stdout",
               "output_type": "stream",
               "text": [
                  "737\n"
               ]
            }
         ],
         "source": [
            "all_feat_files = get_all_feats()\n",
            "# print(all_feat_files)\n",
            "print(len(all_feat_files))"
         ]
      },
      {
         "cell_type": "markdown",
         "metadata": {},
         "source": [
            "### Create all the Docs\n"
         ]
      },
      {
         "cell_type": "code",
         "execution_count": 12,
         "metadata": {},
         "outputs": [],
         "source": [
            "def get_all_docs(npy_files):\n",
            "    doc_list = []\n",
            "    for feat_npy in npy_files:\n",
            "        video_name = feat_npy[feat_npy.find(\"L\") :].split(\".\")[0]\n",
            "        feats_arr = np.load(os.path.join(feat_npy))\n",
            "        # Load metadata\n",
            "        metadata = {}\n",
            "        with open(os.path.join(METADATA_PATH, video_name + \".json\")) as meta_f:\n",
            "            metadata = js.load(meta_f)\n",
            "            map_kf = pd.read_csv(\n",
            "                os.path.join(MAP_KEYFRAMES, video_name + \".csv\"),\n",
            "                usecols=[\"pts_time\", \"fps\", \"frame_idx\"],\n",
            "            )\n",
            "            metadata = {key: metadata[key] for key in [\"publish_date\", \"watch_url\"]}\n",
            "            for frame_idx, feat in enumerate(feats_arr):\n",
            "                image_path = os.path.join(\n",
            "                    KEYFRAME_PATH, video_name, f\"{frame_idx + 1:04d}.jpg\"\n",
            "                )\n",
            "                actual_idx = map_kf[\"frame_idx\"][frame_idx]\n",
            "                doc_list.append(\n",
            "                    FrameDoc(\n",
            "                        embedding=feat,\n",
            "                        video_name=video_name,\n",
            "                        image_path=image_path,\n",
            "                        keyframe_id=frame_idx + 1,\n",
            "                        actual_idx=actual_idx,\n",
            "                        actual_time=map_kf[\"pts_time\"][frame_idx],\n",
            "                        fps=map_kf[\"fps\"][frame_idx],\n",
            "                        metadata=metadata,\n",
            "                    )\n",
            "                )\n",
            "\n",
            "    return doc_list"
         ]
      },
      {
         "cell_type": "code",
         "execution_count": 17,
         "metadata": {},
         "outputs": [],
         "source": [
            "doc_list = get_all_docs(all_feat_files)"
         ]
      },
      {
         "cell_type": "code",
         "execution_count": 18,
         "metadata": {},
         "outputs": [
            {
               "name": "stdout",
               "output_type": "stream",
               "text": [
                  "202148\n",
                  "\n",
                  "            Video name: L01_V001\n",
                  "            Image path: ../data/keyframes/L01_V001/0101.jpg\n",
                  "            Keyframe Id: 101\n",
                  "            Actual keyframe idx: 11047\n",
                  "            Time: 441.88\n",
                  "            Metadata: {'publish_date': '01/12/2022', 'watch_url': 'https://youtube.com/watch?v=HNsRpkryGXA'}\n",
                  "          \n"
               ]
            }
         ],
         "source": [
            "print(len(doc_list))\n",
            "print(doc_list[100])"
         ]
      },
      {
         "cell_type": "markdown",
         "metadata": {},
         "source": [
            "## Utils\n"
         ]
      },
      {
         "cell_type": "markdown",
         "metadata": {},
         "source": [
            "### !!! Vip pro UI\n"
         ]
      },
      {
         "cell_type": "code",
         "execution_count": 19,
         "metadata": {},
         "outputs": [],
         "source": [
            "def FrameDocToImage(docs):\n",
            "    return [\n",
            "        {\n",
            "            \"link\": doc.metadata[\"watch_url\"].split(\"v=\")[-1],\n",
            "            \"path\": doc.image_path,\n",
            "            \"video\": doc.video_name,\n",
            "            \"frame\": doc.actual_idx,\n",
            "            \"s\": str(int(doc.actual_time) // 60)\n",
            "            + \"'\"\n",
            "            + str(round(doc.actual_time - 60 * (int(doc.actual_time) // 60), 1)),\n",
            "        }\n",
            "        for doc in docs\n",
            "    ]"
         ]
      },
      {
         "cell_type": "code",
         "execution_count": 20,
         "metadata": {},
         "outputs": [],
         "source": [
            "def visualize(docs):\n",
            "    display(HTML(create_html_script(FrameDocToImage(docs))))"
         ]
      },
      {
         "cell_type": "markdown",
         "metadata": {},
         "source": [
            "### Open video at specific times\n"
         ]
      },
      {
         "cell_type": "code",
         "execution_count": 21,
         "metadata": {},
         "outputs": [],
         "source": [
            "# def open_video(doc: FrameDoc):\n",
            "#     webbrowser.open(doc.metadata[\"watch_url\"])"
         ]
      },
      {
         "cell_type": "markdown",
         "metadata": {},
         "source": [
            "## Visualization functions\n"
         ]
      },
      {
         "cell_type": "code",
         "execution_count": 22,
         "metadata": {},
         "outputs": [],
         "source": [
            "# def get_images(results):\n",
            "#     images = []\n",
            "#     for i, res in enumerate(results):\n",
            "#         img = Image.open(res.image_path)\n",
            "#         draw = ImageDraw.Draw(img)\n",
            "#         font = ImageFont.truetype(\"arial.ttf\", 50)\n",
            "#         draw.text(xy=(5, 5), text=f\"{i}, {res.video_name}, {res.actual_idx}\", align=\"left\", fill=(255,0,0,255), font=font)\n",
            "#         images.append(img)\n",
            "#     return images"
         ]
      },
      {
         "cell_type": "code",
         "execution_count": 23,
         "metadata": {},
         "outputs": [],
         "source": [
            "# def visualize(imgs: List[Image.Image]) -> None:\n",
            "#     rows = len(imgs) // 2 # see more clearly\n",
            "#     if not rows:\n",
            "#         rows += 1\n",
            "#     cols = len(imgs) // rows\n",
            "#     if rows * cols < len(imgs):\n",
            "#         rows += 1\n",
            "#     w, h = imgs[0].size\n",
            "#     grid = Image.new('RGB', size=(cols * w, rows * h))\n",
            "#     grid_w, grid_h = grid.size\n",
            "\n",
            "#     for i, img in enumerate(imgs):\n",
            "\n",
            "#         grid.paste(img, box=(i % cols * w, i // cols * h))\n",
            "\n",
            "#     display(grid)"
         ]
      },
      {
         "cell_type": "markdown",
         "metadata": {},
         "source": [
            "## Filter by audio"
         ]
      },
      {
         "cell_type": "code",
         "execution_count": 46,
         "metadata": {},
         "outputs": [],
         "source": [
            "SCRIPT_PATH = \"../data/scripts/\"\n",
            "def check_script(file_content, keywords):\n",
            "    for keyword in keywords:\n",
            "        if (keyword not in file_content):\n",
            "            return False\n",
            "    return True\n",
            "def filter_by_audio(result, keywords):\n",
            "    for i in range(len(result) - 1, -1, -1):\n",
            "        transcript_path = SCRIPT_PATH + result[i].video_name + \".txt\"\n",
            "        try:\n",
            "            with open(transcript_path, 'r') as file:\n",
            "                content = file.read()\n",
            "                if (not check_script(content, keywords)):\n",
            "                    result.pop(i)                 \n",
            "        except FileNotFoundError:\n",
            "            pass\n",
            "    return result"
         ]
      },
      {
         "cell_type": "markdown",
         "metadata": {},
         "source": [
            "## DEMO\n"
         ]
      },
      {
         "cell_type": "markdown",
         "metadata": {},
         "source": [
            "### Create DB\n"
         ]
      },
      {
         "cell_type": "code",
         "execution_count": 25,
         "metadata": {},
         "outputs": [],
         "source": [
            "DB = VectorDB()\n",
            "DB.index(doc_list)"
         ]
      },
      {
         "cell_type": "markdown",
         "metadata": {},
         "source": [
            "### Query\n"
         ]
      },
      {
         "cell_type": "markdown",
         "metadata": {},
         "source": [
            "#### Query text\n"
         ]
      },
      {
         "cell_type": "markdown",
         "metadata": {},
         "source": [
            "Đoạn video hai người đàn ông đang chỉ vào các bức tranh bên trên tường. Trong các bức tranh, có một bức vẽ hình Bác Hồ trên nền màu đỏ ở giữa các bức tranh còn lại. Trên một vách tường khác có có treo các khung nhìn như bằng khen."
         ]
      },
      {
         "cell_type": "markdown",
         "metadata": {},
         "source": [
            "### Filter 1\n"
         ]
      },
      {
         "cell_type": "code",
         "execution_count": 26,
         "metadata": {},
         "outputs": [],
         "source": [
            "results1 = DB.search(\n",
            "    \"Video of a man wearing a green shirt holding a piece of paper. There was a woman wearing a coatstanding and listening.\",\n",
            "    1000,\n",
            ")  # Nên lấy nhiều"
         ]
      },
      {
         "cell_type": "code",
         "execution_count": 27,
         "metadata": {},
         "outputs": [
            {
               "data": {
                  "text/html": [
                     "\n",
                     "        \n",
                     "        <style>\n",
                     "            .image-list {\n",
                     "                display: grid;\n",
                     "                grid-template-columns: repeat(2, 1fr);\n",
                     "                grid-gap: 10px;\n",
                     "                max-height: 900px;\n",
                     "                overflow-y: scroll;\n",
                     "            }\n",
                     "\n",
                     "            .image-item {\n",
                     "                position: relative;\n",
                     "            }\n",
                     "\n",
                     "            .image-item img {\n",
                     "                max-width: 100%;\n",
                     "                height: auto;\n",
                     "                cursor: pointer;\n",
                     "            }\n",
                     "\n",
                     "            .image-item a {\n",
                     "                display: none;\n",
                     "                position: absolute;\n",
                     "                top: 0;\n",
                     "                left: 0;\n",
                     "                width: 100%;\n",
                     "                height: 100%;\n",
                     "                background-color: rgba(0, 0, 0, 0.7);\n",
                     "                text-align: center;\n",
                     "                justify-content: center;\n",
                     "                align-items: center;\n",
                     "                text-decoration: none;\n",
                     "                color: white;\n",
                     "            }\n",
                     "\n",
                     "            .image-item:hover a {\n",
                     "                display: flex;\n",
                     "            }\n",
                     "        </style>\n",
                     "    \n",
                     "       <div class=\"image-list\">\n",
                     "            \n",
                     "            <div class=\"image-item\">\n",
                     "                <img src=\"../data/keyframes/L19_V029/0007.jpg\" alt=\"Ảnh 1\">\n",
                     "                <figcaption>L19_V029 - 643 - 0'25.7</figcaption>            \n",
                     "                <a href=http://www.watchframebyframe.com/watch/yt/CmdgRTotG8E target=\"_blank\">Xem chi tiết</a>\n",
                     "            </div>\n",
                     "        \n",
                     "            <div class=\"image-item\">\n",
                     "                <img src=\"../data/keyframes/L20_V062/0097.jpg\" alt=\"Ảnh 1\">\n",
                     "                <figcaption>L20_V062 - 6523 - 4'20.9</figcaption>            \n",
                     "                <a href=http://www.watchframebyframe.com/watch/yt/VC1aSFXXNaQ target=\"_blank\">Xem chi tiết</a>\n",
                     "            </div>\n",
                     "        \n",
                     "            <div class=\"image-item\">\n",
                     "                <img src=\"../data/keyframes/L19_V016/0117.jpg\" alt=\"Ảnh 1\">\n",
                     "                <figcaption>L19_V016 - 10139 - 6'45.6</figcaption>            \n",
                     "                <a href=http://www.watchframebyframe.com/watch/yt/lZXFXNUeSqA target=\"_blank\">Xem chi tiết</a>\n",
                     "            </div>\n",
                     "        \n",
                     "            <div class=\"image-item\">\n",
                     "                <img src=\"../data/keyframes/L13_V024/0090.jpg\" alt=\"Ảnh 1\">\n",
                     "                <figcaption>L13_V024 - 7170 - 4'46.8</figcaption>            \n",
                     "                <a href=http://www.watchframebyframe.com/watch/yt/oF0bB5upZWA target=\"_blank\">Xem chi tiết</a>\n",
                     "            </div>\n",
                     "        \n",
                     "            <div class=\"image-item\">\n",
                     "                <img src=\"../data/keyframes/L02_V005/0171.jpg\" alt=\"Ảnh 1\">\n",
                     "                <figcaption>L02_V005 - 17771 - 11'50.8</figcaption>            \n",
                     "                <a href=http://www.watchframebyframe.com/watch/yt/vkzpvpLCCZ0 target=\"_blank\">Xem chi tiết</a>\n",
                     "            </div>\n",
                     "        \n",
                     "            <div class=\"image-item\">\n",
                     "                <img src=\"../data/keyframes/L20_V076/0156.jpg\" alt=\"Ảnh 1\">\n",
                     "                <figcaption>L20_V076 - 13116 - 8'44.7</figcaption>            \n",
                     "                <a href=http://www.watchframebyframe.com/watch/yt/OULLu9tmhpU target=\"_blank\">Xem chi tiết</a>\n",
                     "            </div>\n",
                     "        \n",
                     "            <div class=\"image-item\">\n",
                     "                <img src=\"../data/keyframes/L18_V022/0113.jpg\" alt=\"Ảnh 1\">\n",
                     "                <figcaption>L18_V022 - 3549 - 2'22.0</figcaption>            \n",
                     "                <a href=http://www.watchframebyframe.com/watch/yt/_PTZdjVD8sA target=\"_blank\">Xem chi tiết</a>\n",
                     "            </div>\n",
                     "        \n",
                     "            <div class=\"image-item\">\n",
                     "                <img src=\"../data/keyframes/L01_V027/0089.jpg\" alt=\"Ảnh 1\">\n",
                     "                <figcaption>L01_V027 - 8507 - 5'40.3</figcaption>            \n",
                     "                <a href=http://www.watchframebyframe.com/watch/yt/SA6pbTTQ_rA target=\"_blank\">Xem chi tiết</a>\n",
                     "            </div>\n",
                     "        \n",
                     "            <div class=\"image-item\">\n",
                     "                <img src=\"../data/keyframes/L14_V030/0066.jpg\" alt=\"Ảnh 1\">\n",
                     "                <figcaption>L14_V030 - 6523 - 4'20.9</figcaption>            \n",
                     "                <a href=http://www.watchframebyframe.com/watch/yt/HzSCoqToCa4 target=\"_blank\">Xem chi tiết</a>\n",
                     "            </div>\n",
                     "        \n",
                     "            <div class=\"image-item\">\n",
                     "                <img src=\"../data/keyframes/L19_V076/0128.jpg\" alt=\"Ảnh 1\">\n",
                     "                <figcaption>L19_V076 - 11945 - 7'57.8</figcaption>            \n",
                     "                <a href=http://www.watchframebyframe.com/watch/yt/f7-rSuzQugI target=\"_blank\">Xem chi tiết</a>\n",
                     "            </div>\n",
                     "        \n",
                     "            <div class=\"image-item\">\n",
                     "                <img src=\"../data/keyframes/L19_V082/0105.jpg\" alt=\"Ảnh 1\">\n",
                     "                <figcaption>L19_V082 - 9743 - 6'29.7</figcaption>            \n",
                     "                <a href=http://www.watchframebyframe.com/watch/yt/l0jITQmgFlc target=\"_blank\">Xem chi tiết</a>\n",
                     "            </div>\n",
                     "        \n",
                     "            <div class=\"image-item\">\n",
                     "                <img src=\"../data/keyframes/L20_V088/0125.jpg\" alt=\"Ảnh 1\">\n",
                     "                <figcaption>L20_V088 - 8214 - 5'28.6</figcaption>            \n",
                     "                <a href=http://www.watchframebyframe.com/watch/yt/OGN_Osp4Svo target=\"_blank\">Xem chi tiết</a>\n",
                     "            </div>\n",
                     "        \n",
                     "            <div class=\"image-item\">\n",
                     "                <img src=\"../data/keyframes/L01_V020/0237.jpg\" alt=\"Ảnh 1\">\n",
                     "                <figcaption>L01_V020 - 24391 - 16'15.6</figcaption>            \n",
                     "                <a href=http://www.watchframebyframe.com/watch/yt/3CwaVNKgo80 target=\"_blank\">Xem chi tiết</a>\n",
                     "            </div>\n",
                     "        \n",
                     "            <div class=\"image-item\">\n",
                     "                <img src=\"../data/keyframes/L20_V031/0134.jpg\" alt=\"Ảnh 1\">\n",
                     "                <figcaption>L20_V031 - 13118 - 8'44.7</figcaption>            \n",
                     "                <a href=http://www.watchframebyframe.com/watch/yt/5oyj3UZlJb8 target=\"_blank\">Xem chi tiết</a>\n",
                     "            </div>\n",
                     "        \n",
                     "            <div class=\"image-item\">\n",
                     "                <img src=\"../data/keyframes/L16_V021/0247.jpg\" alt=\"Ảnh 1\">\n",
                     "                <figcaption>L16_V021 - 26483 - 17'39.4</figcaption>            \n",
                     "                <a href=http://www.watchframebyframe.com/watch/yt/m9Z9EesAkKE target=\"_blank\">Xem chi tiết</a>\n",
                     "            </div>\n",
                     "        \n",
                     "            <div class=\"image-item\">\n",
                     "                <img src=\"../data/keyframes/L03_V022/0168.jpg\" alt=\"Ảnh 1\">\n",
                     "                <figcaption>L03_V022 - 16890 - 11'15.6</figcaption>            \n",
                     "                <a href=http://www.watchframebyframe.com/watch/yt/pP1nLF3dwy4 target=\"_blank\">Xem chi tiết</a>\n",
                     "            </div>\n",
                     "        \n",
                     "            <div class=\"image-item\">\n",
                     "                <img src=\"../data/keyframes/L14_V017/0235.jpg\" alt=\"Ảnh 1\">\n",
                     "                <figcaption>L14_V017 - 23401 - 15'36.0</figcaption>            \n",
                     "                <a href=http://www.watchframebyframe.com/watch/yt/U66AHxeVM98 target=\"_blank\">Xem chi tiết</a>\n",
                     "            </div>\n",
                     "        \n",
                     "            <div class=\"image-item\">\n",
                     "                <img src=\"../data/keyframes/L06_V002/0216.jpg\" alt=\"Ảnh 1\">\n",
                     "                <figcaption>L06_V002 - 22145 - 14'45.8</figcaption>            \n",
                     "                <a href=http://www.watchframebyframe.com/watch/yt/XBQD823N2V0 target=\"_blank\">Xem chi tiết</a>\n",
                     "            </div>\n",
                     "        \n",
                     "            <div class=\"image-item\">\n",
                     "                <img src=\"../data/keyframes/L12_V026/0171.jpg\" alt=\"Ảnh 1\">\n",
                     "                <figcaption>L12_V026 - 18835 - 12'33.4</figcaption>            \n",
                     "                <a href=http://www.watchframebyframe.com/watch/yt/uIy8X8Sa_wc target=\"_blank\">Xem chi tiết</a>\n",
                     "            </div>\n",
                     "        \n",
                     "            <div class=\"image-item\">\n",
                     "                <img src=\"../data/keyframes/L19_V016/0160.jpg\" alt=\"Ảnh 1\">\n",
                     "                <figcaption>L19_V016 - 14491 - 9'39.6</figcaption>            \n",
                     "                <a href=http://www.watchframebyframe.com/watch/yt/lZXFXNUeSqA target=\"_blank\">Xem chi tiết</a>\n",
                     "            </div>\n",
                     "        \n",
                     "            <div class=\"image-item\">\n",
                     "                <img src=\"../data/keyframes/L12_V026/0186.jpg\" alt=\"Ảnh 1\">\n",
                     "                <figcaption>L12_V026 - 20438 - 13'37.5</figcaption>            \n",
                     "                <a href=http://www.watchframebyframe.com/watch/yt/uIy8X8Sa_wc target=\"_blank\">Xem chi tiết</a>\n",
                     "            </div>\n",
                     "        \n",
                     "            <div class=\"image-item\">\n",
                     "                <img src=\"../data/keyframes/L10_V030/0117.jpg\" alt=\"Ảnh 1\">\n",
                     "                <figcaption>L10_V030 - 12195 - 8'7.8</figcaption>            \n",
                     "                <a href=http://www.watchframebyframe.com/watch/yt/yUWRQyN9tJg target=\"_blank\">Xem chi tiết</a>\n",
                     "            </div>\n",
                     "        \n",
                     "            <div class=\"image-item\">\n",
                     "                <img src=\"../data/keyframes/L19_V085/0182.jpg\" alt=\"Ảnh 1\">\n",
                     "                <figcaption>L19_V085 - 18031 - 12'1.2</figcaption>            \n",
                     "                <a href=http://www.watchframebyframe.com/watch/yt/KrRxsUMPyDo target=\"_blank\">Xem chi tiết</a>\n",
                     "            </div>\n",
                     "        \n",
                     "            <div class=\"image-item\">\n",
                     "                <img src=\"../data/keyframes/L20_V017/0139.jpg\" alt=\"Ảnh 1\">\n",
                     "                <figcaption>L20_V017 - 12841 - 8'33.6</figcaption>            \n",
                     "                <a href=http://www.watchframebyframe.com/watch/yt/xPm1LRm5xw8 target=\"_blank\">Xem chi tiết</a>\n",
                     "            </div>\n",
                     "        \n",
                     "            <div class=\"image-item\">\n",
                     "                <img src=\"../data/keyframes/L01_V018/0178.jpg\" alt=\"Ảnh 1\">\n",
                     "                <figcaption>L01_V018 - 18869 - 12'34.8</figcaption>            \n",
                     "                <a href=http://www.watchframebyframe.com/watch/yt/GiEczVQV0GM target=\"_blank\">Xem chi tiết</a>\n",
                     "            </div>\n",
                     "        \n",
                     "            <div class=\"image-item\">\n",
                     "                <img src=\"../data/keyframes/L19_V049/0114.jpg\" alt=\"Ảnh 1\">\n",
                     "                <figcaption>L19_V049 - 10151 - 6'46.0</figcaption>            \n",
                     "                <a href=http://www.watchframebyframe.com/watch/yt/O1EuwlaPxKw target=\"_blank\">Xem chi tiết</a>\n",
                     "            </div>\n",
                     "        \n",
                     "            <div class=\"image-item\">\n",
                     "                <img src=\"../data/keyframes/L07_V019/0177.jpg\" alt=\"Ảnh 1\">\n",
                     "                <figcaption>L07_V019 - 20045 - 13'21.8</figcaption>            \n",
                     "                <a href=http://www.watchframebyframe.com/watch/yt/TazdiV-r1JQ target=\"_blank\">Xem chi tiết</a>\n",
                     "            </div>\n",
                     "        \n",
                     "            <div class=\"image-item\">\n",
                     "                <img src=\"../data/keyframes/L08_V018/0243.jpg\" alt=\"Ảnh 1\">\n",
                     "                <figcaption>L08_V018 - 26580 - 17'43.2</figcaption>            \n",
                     "                <a href=http://www.watchframebyframe.com/watch/yt/NIxT7CmCNfg target=\"_blank\">Xem chi tiết</a>\n",
                     "            </div>\n",
                     "        \n",
                     "            <div class=\"image-item\">\n",
                     "                <img src=\"../data/keyframes/L19_V077/0085.jpg\" alt=\"Ảnh 1\">\n",
                     "                <figcaption>L19_V077 - 7400 - 4'56.0</figcaption>            \n",
                     "                <a href=http://www.watchframebyframe.com/watch/yt/Wq14sjN6_gs target=\"_blank\">Xem chi tiết</a>\n",
                     "            </div>\n",
                     "        \n",
                     "            <div class=\"image-item\">\n",
                     "                <img src=\"../data/keyframes/L19_V043/0268.jpg\" alt=\"Ảnh 1\">\n",
                     "                <figcaption>L19_V043 - 19096 - 12'43.8</figcaption>            \n",
                     "                <a href=http://www.watchframebyframe.com/watch/yt/2PGphiPA5vY target=\"_blank\">Xem chi tiết</a>\n",
                     "            </div>\n",
                     "        \n",
                     "            <div class=\"image-item\">\n",
                     "                <img src=\"../data/keyframes/L18_V014/0127.jpg\" alt=\"Ảnh 1\">\n",
                     "                <figcaption>L18_V014 - 7763 - 5'10.5</figcaption>            \n",
                     "                <a href=http://www.watchframebyframe.com/watch/yt/asdjg2d46sw target=\"_blank\">Xem chi tiết</a>\n",
                     "            </div>\n",
                     "        \n",
                     "            <div class=\"image-item\">\n",
                     "                <img src=\"../data/keyframes/L18_V014/0141.jpg\" alt=\"Ảnh 1\">\n",
                     "                <figcaption>L18_V014 - 8661 - 5'46.4</figcaption>            \n",
                     "                <a href=http://www.watchframebyframe.com/watch/yt/asdjg2d46sw target=\"_blank\">Xem chi tiết</a>\n",
                     "            </div>\n",
                     "        \n",
                     "            <div class=\"image-item\">\n",
                     "                <img src=\"../data/keyframes/L19_V029/0083.jpg\" alt=\"Ảnh 1\">\n",
                     "                <figcaption>L19_V029 - 8276 - 5'31.0</figcaption>            \n",
                     "                <a href=http://www.watchframebyframe.com/watch/yt/CmdgRTotG8E target=\"_blank\">Xem chi tiết</a>\n",
                     "            </div>\n",
                     "        \n",
                     "            <div class=\"image-item\">\n",
                     "                <img src=\"../data/keyframes/L08_V020/0009.jpg\" alt=\"Ảnh 1\">\n",
                     "                <figcaption>L08_V020 - 741 - 0'29.6</figcaption>            \n",
                     "                <a href=http://www.watchframebyframe.com/watch/yt/NBBCkUn0ihU target=\"_blank\">Xem chi tiết</a>\n",
                     "            </div>\n",
                     "        \n",
                     "            <div class=\"image-item\">\n",
                     "                <img src=\"../data/keyframes/L10_V005/0142.jpg\" alt=\"Ảnh 1\">\n",
                     "                <figcaption>L10_V005 - 14299 - 9'32.0</figcaption>            \n",
                     "                <a href=http://www.watchframebyframe.com/watch/yt/cEK_wM2iV1Q target=\"_blank\">Xem chi tiết</a>\n",
                     "            </div>\n",
                     "        \n",
                     "            <div class=\"image-item\">\n",
                     "                <img src=\"../data/keyframes/L19_V095/0104.jpg\" alt=\"Ảnh 1\">\n",
                     "                <figcaption>L19_V095 - 7952 - 5'31.6</figcaption>            \n",
                     "                <a href=http://www.watchframebyframe.com/watch/yt/opVujO4HBec target=\"_blank\">Xem chi tiết</a>\n",
                     "            </div>\n",
                     "        \n",
                     "            <div class=\"image-item\">\n",
                     "                <img src=\"../data/keyframes/L08_V005/0041.jpg\" alt=\"Ảnh 1\">\n",
                     "                <figcaption>L08_V005 - 2263 - 1'30.5</figcaption>            \n",
                     "                <a href=http://www.watchframebyframe.com/watch/yt/bRrDIWlM4do target=\"_blank\">Xem chi tiết</a>\n",
                     "            </div>\n",
                     "        \n",
                     "            <div class=\"image-item\">\n",
                     "                <img src=\"../data/keyframes/L18_V023/0252.jpg\" alt=\"Ảnh 1\">\n",
                     "                <figcaption>L18_V023 - 9828 - 6'33.1</figcaption>            \n",
                     "                <a href=http://www.watchframebyframe.com/watch/yt/YRktbcWXcok target=\"_blank\">Xem chi tiết</a>\n",
                     "            </div>\n",
                     "        \n",
                     "            <div class=\"image-item\">\n",
                     "                <img src=\"../data/keyframes/L01_V018/0179.jpg\" alt=\"Ảnh 1\">\n",
                     "                <figcaption>L01_V018 - 18900 - 12'36.0</figcaption>            \n",
                     "                <a href=http://www.watchframebyframe.com/watch/yt/GiEczVQV0GM target=\"_blank\">Xem chi tiết</a>\n",
                     "            </div>\n",
                     "        \n",
                     "            <div class=\"image-item\">\n",
                     "                <img src=\"../data/keyframes/L20_V011/0009.jpg\" alt=\"Ảnh 1\">\n",
                     "                <figcaption>L20_V011 - 482 - 0'19.3</figcaption>            \n",
                     "                <a href=http://www.watchframebyframe.com/watch/yt/gvbF8v0GSS0 target=\"_blank\">Xem chi tiết</a>\n",
                     "            </div>\n",
                     "        \n",
                     "            <div class=\"image-item\">\n",
                     "                <img src=\"../data/keyframes/L19_V051/0111.jpg\" alt=\"Ảnh 1\">\n",
                     "                <figcaption>L19_V051 - 11346 - 7'33.8</figcaption>            \n",
                     "                <a href=http://www.watchframebyframe.com/watch/yt/nMAgNkC0tOE target=\"_blank\">Xem chi tiết</a>\n",
                     "            </div>\n",
                     "        \n",
                     "            <div class=\"image-item\">\n",
                     "                <img src=\"../data/keyframes/L02_V027/0239.jpg\" alt=\"Ảnh 1\">\n",
                     "                <figcaption>L02_V027 - 25071 - 16'42.8</figcaption>            \n",
                     "                <a href=http://www.watchframebyframe.com/watch/yt/OPMJJz1bTg4 target=\"_blank\">Xem chi tiết</a>\n",
                     "            </div>\n",
                     "        \n",
                     "            <div class=\"image-item\">\n",
                     "                <img src=\"../data/keyframes/L06_V002/0210.jpg\" alt=\"Ảnh 1\">\n",
                     "                <figcaption>L06_V002 - 21642 - 14'25.7</figcaption>            \n",
                     "                <a href=http://www.watchframebyframe.com/watch/yt/XBQD823N2V0 target=\"_blank\">Xem chi tiết</a>\n",
                     "            </div>\n",
                     "        \n",
                     "            <div class=\"image-item\">\n",
                     "                <img src=\"../data/keyframes/L19_V097/0128.jpg\" alt=\"Ảnh 1\">\n",
                     "                <figcaption>L19_V097 - 12018 - 8'0.7</figcaption>            \n",
                     "                <a href=http://www.watchframebyframe.com/watch/yt/Vdh3Hgzs8E0 target=\"_blank\">Xem chi tiết</a>\n",
                     "            </div>\n",
                     "        \n",
                     "            <div class=\"image-item\">\n",
                     "                <img src=\"../data/keyframes/L19_V087/0097.jpg\" alt=\"Ảnh 1\">\n",
                     "                <figcaption>L19_V087 - 9540 - 6'21.6</figcaption>            \n",
                     "                <a href=http://www.watchframebyframe.com/watch/yt/YrHnI4S79Ts target=\"_blank\">Xem chi tiết</a>\n",
                     "            </div>\n",
                     "        \n",
                     "            <div class=\"image-item\">\n",
                     "                <img src=\"../data/keyframes/L19_V083/0147.jpg\" alt=\"Ảnh 1\">\n",
                     "                <figcaption>L19_V083 - 12199 - 8'8.0</figcaption>            \n",
                     "                <a href=http://www.watchframebyframe.com/watch/yt/rCPpvs4c_60 target=\"_blank\">Xem chi tiết</a>\n",
                     "            </div>\n",
                     "        \n",
                     "            <div class=\"image-item\">\n",
                     "                <img src=\"../data/keyframes/L20_V012/0193.jpg\" alt=\"Ảnh 1\">\n",
                     "                <figcaption>L20_V012 - 15913 - 10'36.5</figcaption>            \n",
                     "                <a href=http://www.watchframebyframe.com/watch/yt/ES-pwE07poE target=\"_blank\">Xem chi tiết</a>\n",
                     "            </div>\n",
                     "        \n",
                     "            <div class=\"image-item\">\n",
                     "                <img src=\"../data/keyframes/L14_V009/0018.jpg\" alt=\"Ảnh 1\">\n",
                     "                <figcaption>L14_V009 - 1599 - 1'4.0</figcaption>            \n",
                     "                <a href=http://www.watchframebyframe.com/watch/yt/Qcx1BM-zYlA target=\"_blank\">Xem chi tiết</a>\n",
                     "            </div>\n",
                     "        \n",
                     "            <div class=\"image-item\">\n",
                     "                <img src=\"../data/keyframes/L19_V016/0163.jpg\" alt=\"Ảnh 1\">\n",
                     "                <figcaption>L19_V016 - 14874 - 9'55.0</figcaption>            \n",
                     "                <a href=http://www.watchframebyframe.com/watch/yt/lZXFXNUeSqA target=\"_blank\">Xem chi tiết</a>\n",
                     "            </div>\n",
                     "        \n",
                     "            <div class=\"image-item\">\n",
                     "                <img src=\"../data/keyframes/L19_V025/0135.jpg\" alt=\"Ảnh 1\">\n",
                     "                <figcaption>L19_V025 - 13693 - 9'7.7</figcaption>            \n",
                     "                <a href=http://www.watchframebyframe.com/watch/yt/HTexsZSTjYg target=\"_blank\">Xem chi tiết</a>\n",
                     "            </div>\n",
                     "        \n",
                     "            <div class=\"image-item\">\n",
                     "                <img src=\"../data/keyframes/L06_V025/0004.jpg\" alt=\"Ảnh 1\">\n",
                     "                <figcaption>L06_V025 - 350 - 0'14.0</figcaption>            \n",
                     "                <a href=http://www.watchframebyframe.com/watch/yt/-NjHnEHabTg target=\"_blank\">Xem chi tiết</a>\n",
                     "            </div>\n",
                     "        \n",
                     "            <div class=\"image-item\">\n",
                     "                <img src=\"../data/keyframes/L20_V079/0180.jpg\" alt=\"Ảnh 1\">\n",
                     "                <figcaption>L20_V079 - 17610 - 11'44.4</figcaption>            \n",
                     "                <a href=http://www.watchframebyframe.com/watch/yt/JCufpfPxqcQ target=\"_blank\">Xem chi tiết</a>\n",
                     "            </div>\n",
                     "        \n",
                     "            <div class=\"image-item\">\n",
                     "                <img src=\"../data/keyframes/L18_V023/0039.jpg\" alt=\"Ảnh 1\">\n",
                     "                <figcaption>L18_V023 - 2232 - 1'29.3</figcaption>            \n",
                     "                <a href=http://www.watchframebyframe.com/watch/yt/YRktbcWXcok target=\"_blank\">Xem chi tiết</a>\n",
                     "            </div>\n",
                     "        \n",
                     "            <div class=\"image-item\">\n",
                     "                <img src=\"../data/keyframes/L16_V008/0204.jpg\" alt=\"Ảnh 1\">\n",
                     "                <figcaption>L16_V008 - 21870 - 14'34.8</figcaption>            \n",
                     "                <a href=http://www.watchframebyframe.com/watch/yt/UMTSy_JVf-8 target=\"_blank\">Xem chi tiết</a>\n",
                     "            </div>\n",
                     "        \n",
                     "            <div class=\"image-item\">\n",
                     "                <img src=\"../data/keyframes/L19_V016/0156.jpg\" alt=\"Ảnh 1\">\n",
                     "                <figcaption>L19_V016 - 14003 - 9'20.1</figcaption>            \n",
                     "                <a href=http://www.watchframebyframe.com/watch/yt/lZXFXNUeSqA target=\"_blank\">Xem chi tiết</a>\n",
                     "            </div>\n",
                     "        \n",
                     "            <div class=\"image-item\">\n",
                     "                <img src=\"../data/keyframes/L09_V010/0246.jpg\" alt=\"Ảnh 1\">\n",
                     "                <figcaption>L09_V010 - 26002 - 17'20.1</figcaption>            \n",
                     "                <a href=http://www.watchframebyframe.com/watch/yt/U466NXUK5TI target=\"_blank\">Xem chi tiết</a>\n",
                     "            </div>\n",
                     "        \n",
                     "            <div class=\"image-item\">\n",
                     "                <img src=\"../data/keyframes/L05_V013/0076.jpg\" alt=\"Ảnh 1\">\n",
                     "                <figcaption>L05_V013 - 7445 - 4'57.8</figcaption>            \n",
                     "                <a href=http://www.watchframebyframe.com/watch/yt/h5CxinTYv0k target=\"_blank\">Xem chi tiết</a>\n",
                     "            </div>\n",
                     "        \n",
                     "            <div class=\"image-item\">\n",
                     "                <img src=\"../data/keyframes/L16_V007/0211.jpg\" alt=\"Ảnh 1\">\n",
                     "                <figcaption>L16_V007 - 23052 - 15'22.1</figcaption>            \n",
                     "                <a href=http://www.watchframebyframe.com/watch/yt/BbCFRnFiDyo target=\"_blank\">Xem chi tiết</a>\n",
                     "            </div>\n",
                     "        \n",
                     "            <div class=\"image-item\">\n",
                     "                <img src=\"../data/keyframes/L20_V092/0100.jpg\" alt=\"Ảnh 1\">\n",
                     "                <figcaption>L20_V092 - 10099 - 6'44.0</figcaption>            \n",
                     "                <a href=http://www.watchframebyframe.com/watch/yt/PC9ITwMS83Y target=\"_blank\">Xem chi tiết</a>\n",
                     "            </div>\n",
                     "        \n",
                     "            <div class=\"image-item\">\n",
                     "                <img src=\"../data/keyframes/L13_V018/0189.jpg\" alt=\"Ảnh 1\">\n",
                     "                <figcaption>L13_V018 - 21522 - 14'20.9</figcaption>            \n",
                     "                <a href=http://www.watchframebyframe.com/watch/yt/sA9WzowLJMQ target=\"_blank\">Xem chi tiết</a>\n",
                     "            </div>\n",
                     "        \n",
                     "            <div class=\"image-item\">\n",
                     "                <img src=\"../data/keyframes/L19_V033/0129.jpg\" alt=\"Ảnh 1\">\n",
                     "                <figcaption>L19_V033 - 11776 - 7'51.0</figcaption>            \n",
                     "                <a href=http://www.watchframebyframe.com/watch/yt/_uwhb2dePXE target=\"_blank\">Xem chi tiết</a>\n",
                     "            </div>\n",
                     "        \n",
                     "            <div class=\"image-item\">\n",
                     "                <img src=\"../data/keyframes/L20_V011/0165.jpg\" alt=\"Ảnh 1\">\n",
                     "                <figcaption>L20_V011 - 12544 - 8'21.8</figcaption>            \n",
                     "                <a href=http://www.watchframebyframe.com/watch/yt/gvbF8v0GSS0 target=\"_blank\">Xem chi tiết</a>\n",
                     "            </div>\n",
                     "        \n",
                     "            <div class=\"image-item\">\n",
                     "                <img src=\"../data/keyframes/L19_V079/0126.jpg\" alt=\"Ảnh 1\">\n",
                     "                <figcaption>L19_V079 - 10598 - 7'3.9</figcaption>            \n",
                     "                <a href=http://www.watchframebyframe.com/watch/yt/Y2vjd1bw-kE target=\"_blank\">Xem chi tiết</a>\n",
                     "            </div>\n",
                     "        \n",
                     "            <div class=\"image-item\">\n",
                     "                <img src=\"../data/keyframes/L15_V030/0079.jpg\" alt=\"Ảnh 1\">\n",
                     "                <figcaption>L15_V030 - 7962 - 5'18.5</figcaption>            \n",
                     "                <a href=http://www.watchframebyframe.com/watch/yt/t_ax-U33CZs target=\"_blank\">Xem chi tiết</a>\n",
                     "            </div>\n",
                     "        \n",
                     "            <div class=\"image-item\">\n",
                     "                <img src=\"../data/keyframes/L20_V011/0168.jpg\" alt=\"Ảnh 1\">\n",
                     "                <figcaption>L20_V011 - 12697 - 8'27.9</figcaption>            \n",
                     "                <a href=http://www.watchframebyframe.com/watch/yt/gvbF8v0GSS0 target=\"_blank\">Xem chi tiết</a>\n",
                     "            </div>\n",
                     "        \n",
                     "            <div class=\"image-item\">\n",
                     "                <img src=\"../data/keyframes/L19_V028/0107.jpg\" alt=\"Ảnh 1\">\n",
                     "                <figcaption>L19_V028 - 9617 - 6'24.7</figcaption>            \n",
                     "                <a href=http://www.watchframebyframe.com/watch/yt/N9UmacJ0cEY target=\"_blank\">Xem chi tiết</a>\n",
                     "            </div>\n",
                     "        \n",
                     "            <div class=\"image-item\">\n",
                     "                <img src=\"../data/keyframes/L06_V021/0289.jpg\" alt=\"Ảnh 1\">\n",
                     "                <figcaption>L06_V021 - 29681 - 19'47.2</figcaption>            \n",
                     "                <a href=http://www.watchframebyframe.com/watch/yt/Z_XeN3F_jFQ target=\"_blank\">Xem chi tiết</a>\n",
                     "            </div>\n",
                     "        \n",
                     "            <div class=\"image-item\">\n",
                     "                <img src=\"../data/keyframes/L16_V017/0218.jpg\" alt=\"Ảnh 1\">\n",
                     "                <figcaption>L16_V017 - 21618 - 14'24.7</figcaption>            \n",
                     "                <a href=http://www.watchframebyframe.com/watch/yt/NClTLvmgXM0 target=\"_blank\">Xem chi tiết</a>\n",
                     "            </div>\n",
                     "        \n",
                     "            <div class=\"image-item\">\n",
                     "                <img src=\"../data/keyframes/L13_V024/0089.jpg\" alt=\"Ảnh 1\">\n",
                     "                <figcaption>L13_V024 - 7138 - 4'45.5</figcaption>            \n",
                     "                <a href=http://www.watchframebyframe.com/watch/yt/oF0bB5upZWA target=\"_blank\">Xem chi tiết</a>\n",
                     "            </div>\n",
                     "        \n",
                     "            <div class=\"image-item\">\n",
                     "                <img src=\"../data/keyframes/L11_V027/0122.jpg\" alt=\"Ảnh 1\">\n",
                     "                <figcaption>L11_V027 - 11928 - 7'57.1</figcaption>            \n",
                     "                <a href=http://www.watchframebyframe.com/watch/yt/0uFPAH4NDOU target=\"_blank\">Xem chi tiết</a>\n",
                     "            </div>\n",
                     "        \n",
                     "            <div class=\"image-item\">\n",
                     "                <img src=\"../data/keyframes/L20_V088/0124.jpg\" alt=\"Ảnh 1\">\n",
                     "                <figcaption>L20_V088 - 8206 - 5'28.2</figcaption>            \n",
                     "                <a href=http://www.watchframebyframe.com/watch/yt/OGN_Osp4Svo target=\"_blank\">Xem chi tiết</a>\n",
                     "            </div>\n",
                     "        \n",
                     "            <div class=\"image-item\">\n",
                     "                <img src=\"../data/keyframes/L12_V001/0222.jpg\" alt=\"Ảnh 1\">\n",
                     "                <figcaption>L12_V001 - 23800 - 15'52.0</figcaption>            \n",
                     "                <a href=http://www.watchframebyframe.com/watch/yt/QApz_56Q3sc target=\"_blank\">Xem chi tiết</a>\n",
                     "            </div>\n",
                     "        \n",
                     "            <div class=\"image-item\">\n",
                     "                <img src=\"../data/keyframes/L11_V030/0152.jpg\" alt=\"Ảnh 1\">\n",
                     "                <figcaption>L11_V030 - 16598 - 11'3.9</figcaption>            \n",
                     "                <a href=http://www.watchframebyframe.com/watch/yt/Jdr_x2Ez9B8 target=\"_blank\">Xem chi tiết</a>\n",
                     "            </div>\n",
                     "        \n",
                     "            <div class=\"image-item\">\n",
                     "                <img src=\"../data/keyframes/L08_V013/0338.jpg\" alt=\"Ảnh 1\">\n",
                     "                <figcaption>L08_V013 - 22189 - 14'47.6</figcaption>            \n",
                     "                <a href=http://www.watchframebyframe.com/watch/yt/iWQ6z0c2Kr0 target=\"_blank\">Xem chi tiết</a>\n",
                     "            </div>\n",
                     "        \n",
                     "            <div class=\"image-item\">\n",
                     "                <img src=\"../data/keyframes/L14_V016/0041.jpg\" alt=\"Ảnh 1\">\n",
                     "                <figcaption>L14_V016 - 3718 - 2'28.7</figcaption>            \n",
                     "                <a href=http://www.watchframebyframe.com/watch/yt/6TXLwcfvtis target=\"_blank\">Xem chi tiết</a>\n",
                     "            </div>\n",
                     "        \n",
                     "            <div class=\"image-item\">\n",
                     "                <img src=\"../data/keyframes/L19_V016/0118.jpg\" alt=\"Ảnh 1\">\n",
                     "                <figcaption>L19_V016 - 10187 - 6'47.5</figcaption>            \n",
                     "                <a href=http://www.watchframebyframe.com/watch/yt/lZXFXNUeSqA target=\"_blank\">Xem chi tiết</a>\n",
                     "            </div>\n",
                     "        \n",
                     "            <div class=\"image-item\">\n",
                     "                <img src=\"../data/keyframes/L12_V027/0234.jpg\" alt=\"Ảnh 1\">\n",
                     "                <figcaption>L12_V027 - 24697 - 16'27.9</figcaption>            \n",
                     "                <a href=http://www.watchframebyframe.com/watch/yt/9XPU2RQ5fVU target=\"_blank\">Xem chi tiết</a>\n",
                     "            </div>\n",
                     "        \n",
                     "            <div class=\"image-item\">\n",
                     "                <img src=\"../data/keyframes/L19_V016/0081.jpg\" alt=\"Ảnh 1\">\n",
                     "                <figcaption>L19_V016 - 7037 - 4'41.5</figcaption>            \n",
                     "                <a href=http://www.watchframebyframe.com/watch/yt/lZXFXNUeSqA target=\"_blank\">Xem chi tiết</a>\n",
                     "            </div>\n",
                     "        \n",
                     "            <div class=\"image-item\">\n",
                     "                <img src=\"../data/keyframes/L20_V024/0163.jpg\" alt=\"Ảnh 1\">\n",
                     "                <figcaption>L20_V024 - 15466 - 10'18.7</figcaption>            \n",
                     "                <a href=http://www.watchframebyframe.com/watch/yt/snw3oL4lytk target=\"_blank\">Xem chi tiết</a>\n",
                     "            </div>\n",
                     "        \n",
                     "            <div class=\"image-item\">\n",
                     "                <img src=\"../data/keyframes/L01_V012/0114.jpg\" alt=\"Ảnh 1\">\n",
                     "                <figcaption>L01_V012 - 11550 - 7'42.0</figcaption>            \n",
                     "                <a href=http://www.watchframebyframe.com/watch/yt/L5Aj01HO_Ao target=\"_blank\">Xem chi tiết</a>\n",
                     "            </div>\n",
                     "        \n",
                     "            <div class=\"image-item\">\n",
                     "                <img src=\"../data/keyframes/L19_V060/0099.jpg\" alt=\"Ảnh 1\">\n",
                     "                <figcaption>L19_V060 - 9247 - 6'9.9</figcaption>            \n",
                     "                <a href=http://www.watchframebyframe.com/watch/yt/kzkdaaxTNdc target=\"_blank\">Xem chi tiết</a>\n",
                     "            </div>\n",
                     "        \n",
                     "            <div class=\"image-item\">\n",
                     "                <img src=\"../data/keyframes/L10_V029/0152.jpg\" alt=\"Ảnh 1\">\n",
                     "                <figcaption>L10_V029 - 15155 - 10'6.2</figcaption>            \n",
                     "                <a href=http://www.watchframebyframe.com/watch/yt/jujD64pdWC4 target=\"_blank\">Xem chi tiết</a>\n",
                     "            </div>\n",
                     "        \n",
                     "            <div class=\"image-item\">\n",
                     "                <img src=\"../data/keyframes/L05_V002/0108.jpg\" alt=\"Ảnh 1\">\n",
                     "                <figcaption>L05_V002 - 11385 - 7'35.4</figcaption>            \n",
                     "                <a href=http://www.watchframebyframe.com/watch/yt/6IKPglhTWrQ target=\"_blank\">Xem chi tiết</a>\n",
                     "            </div>\n",
                     "        \n",
                     "            <div class=\"image-item\">\n",
                     "                <img src=\"../data/keyframes/L14_V030/0239.jpg\" alt=\"Ảnh 1\">\n",
                     "                <figcaption>L14_V030 - 26907 - 17'56.3</figcaption>            \n",
                     "                <a href=http://www.watchframebyframe.com/watch/yt/HzSCoqToCa4 target=\"_blank\">Xem chi tiết</a>\n",
                     "            </div>\n",
                     "        \n",
                     "            <div class=\"image-item\">\n",
                     "                <img src=\"../data/keyframes/L15_V024/0216.jpg\" alt=\"Ảnh 1\">\n",
                     "                <figcaption>L15_V024 - 24043 - 16'1.7</figcaption>            \n",
                     "                <a href=http://www.watchframebyframe.com/watch/yt/8bZTmqbyN28 target=\"_blank\">Xem chi tiết</a>\n",
                     "            </div>\n",
                     "        \n",
                     "            <div class=\"image-item\">\n",
                     "                <img src=\"../data/keyframes/L20_V017/0138.jpg\" alt=\"Ảnh 1\">\n",
                     "                <figcaption>L20_V017 - 12773 - 8'30.9</figcaption>            \n",
                     "                <a href=http://www.watchframebyframe.com/watch/yt/xPm1LRm5xw8 target=\"_blank\">Xem chi tiết</a>\n",
                     "            </div>\n",
                     "        \n",
                     "            <div class=\"image-item\">\n",
                     "                <img src=\"../data/keyframes/L20_V043/0137.jpg\" alt=\"Ảnh 1\">\n",
                     "                <figcaption>L20_V043 - 12234 - 8'9.4</figcaption>            \n",
                     "                <a href=http://www.watchframebyframe.com/watch/yt/ivlH9ttw2QY target=\"_blank\">Xem chi tiết</a>\n",
                     "            </div>\n",
                     "        \n",
                     "            <div class=\"image-item\">\n",
                     "                <img src=\"../data/keyframes/L03_V024/0222.jpg\" alt=\"Ảnh 1\">\n",
                     "                <figcaption>L03_V024 - 22815 - 15'12.6</figcaption>            \n",
                     "                <a href=http://www.watchframebyframe.com/watch/yt/qXVkAnQVp3o target=\"_blank\">Xem chi tiết</a>\n",
                     "            </div>\n",
                     "        \n",
                     "            <div class=\"image-item\">\n",
                     "                <img src=\"../data/keyframes/L13_V003/0180.jpg\" alt=\"Ảnh 1\">\n",
                     "                <figcaption>L13_V003 - 19589 - 13'3.6</figcaption>            \n",
                     "                <a href=http://www.watchframebyframe.com/watch/yt/GMRl1GDKpNk target=\"_blank\">Xem chi tiết</a>\n",
                     "            </div>\n",
                     "        \n",
                     "            <div class=\"image-item\">\n",
                     "                <img src=\"../data/keyframes/L05_V014/0145.jpg\" alt=\"Ảnh 1\">\n",
                     "                <figcaption>L05_V014 - 16933 - 11'17.3</figcaption>            \n",
                     "                <a href=http://www.watchframebyframe.com/watch/yt/BY3cWJTFD08 target=\"_blank\">Xem chi tiết</a>\n",
                     "            </div>\n",
                     "        \n",
                     "            <div class=\"image-item\">\n",
                     "                <img src=\"../data/keyframes/L19_V021/0169.jpg\" alt=\"Ảnh 1\">\n",
                     "                <figcaption>L19_V021 - 15856 - 10'34.2</figcaption>            \n",
                     "                <a href=http://www.watchframebyframe.com/watch/yt/g6dnGZliOXQ target=\"_blank\">Xem chi tiết</a>\n",
                     "            </div>\n",
                     "        \n",
                     "            <div class=\"image-item\">\n",
                     "                <img src=\"../data/keyframes/L12_V002/0234.jpg\" alt=\"Ảnh 1\">\n",
                     "                <figcaption>L12_V002 - 24631 - 16'25.2</figcaption>            \n",
                     "                <a href=http://www.watchframebyframe.com/watch/yt/JVzCg8ei60M target=\"_blank\">Xem chi tiết</a>\n",
                     "            </div>\n",
                     "        \n",
                     "            <div class=\"image-item\">\n",
                     "                <img src=\"../data/keyframes/L20_V074/0213.jpg\" alt=\"Ảnh 1\">\n",
                     "                <figcaption>L20_V074 - 19484 - 13'32.5</figcaption>            \n",
                     "                <a href=http://www.watchframebyframe.com/watch/yt/ynUTNizUCmw target=\"_blank\">Xem chi tiết</a>\n",
                     "            </div>\n",
                     "        \n",
                     "            <div class=\"image-item\">\n",
                     "                <img src=\"../data/keyframes/L19_V085/0194.jpg\" alt=\"Ảnh 1\">\n",
                     "                <figcaption>L19_V085 - 19190 - 12'47.6</figcaption>            \n",
                     "                <a href=http://www.watchframebyframe.com/watch/yt/KrRxsUMPyDo target=\"_blank\">Xem chi tiết</a>\n",
                     "            </div>\n",
                     "        \n",
                     "            <div class=\"image-item\">\n",
                     "                <img src=\"../data/keyframes/L20_V017/0136.jpg\" alt=\"Ảnh 1\">\n",
                     "                <figcaption>L20_V017 - 12615 - 8'24.6</figcaption>            \n",
                     "                <a href=http://www.watchframebyframe.com/watch/yt/xPm1LRm5xw8 target=\"_blank\">Xem chi tiết</a>\n",
                     "            </div>\n",
                     "        \n",
                     "            <div class=\"image-item\">\n",
                     "                <img src=\"../data/keyframes/L05_V026/0130.jpg\" alt=\"Ảnh 1\">\n",
                     "                <figcaption>L05_V026 - 14025 - 9'21.0</figcaption>            \n",
                     "                <a href=http://www.watchframebyframe.com/watch/yt/7UPven2EDC8 target=\"_blank\">Xem chi tiết</a>\n",
                     "            </div>\n",
                     "        \n",
                     "            <div class=\"image-item\">\n",
                     "                <img src=\"../data/keyframes/L12_V029/0199.jpg\" alt=\"Ảnh 1\">\n",
                     "                <figcaption>L12_V029 - 20966 - 13'58.6</figcaption>            \n",
                     "                <a href=http://www.watchframebyframe.com/watch/yt/KjQuxo3diKk target=\"_blank\">Xem chi tiết</a>\n",
                     "            </div>\n",
                     "        \n",
                     "            <div class=\"image-item\">\n",
                     "                <img src=\"../data/keyframes/L20_V074/0211.jpg\" alt=\"Ảnh 1\">\n",
                     "                <figcaption>L20_V074 - 19315 - 13'25.5</figcaption>            \n",
                     "                <a href=http://www.watchframebyframe.com/watch/yt/ynUTNizUCmw target=\"_blank\">Xem chi tiết</a>\n",
                     "            </div>\n",
                     "        \n",
                     "            <div class=\"image-item\">\n",
                     "                <img src=\"../data/keyframes/L19_V020/0128.jpg\" alt=\"Ảnh 1\">\n",
                     "                <figcaption>L19_V020 - 11487 - 7'39.5</figcaption>            \n",
                     "                <a href=http://www.watchframebyframe.com/watch/yt/Wi_IFmMgxOA target=\"_blank\">Xem chi tiết</a>\n",
                     "            </div>\n",
                     "        \n",
                     "            <div class=\"image-item\">\n",
                     "                <img src=\"../data/keyframes/L16_V005/0316.jpg\" alt=\"Ảnh 1\">\n",
                     "                <figcaption>L16_V005 - 32652 - 21'46.1</figcaption>            \n",
                     "                <a href=http://www.watchframebyframe.com/watch/yt/5oSBj6KUOaY target=\"_blank\">Xem chi tiết</a>\n",
                     "            </div>\n",
                     "        \n",
                     "        </div>\n",
                     "        \n",
                     "        <script>\n",
                     "            function openLink(url) {\n",
                     "                window.open(url, '_blank');\n",
                     "            }\n",
                     "        </script>\n",
                     "    \n",
                     "    "
                  ],
                  "text/plain": [
                     "<IPython.core.display.HTML object>"
                  ]
               },
               "metadata": {},
               "output_type": "display_data"
            }
         ],
         "source": [
            "visualize(results1[:100])"
         ]
      },
      {
         "cell_type": "markdown",
         "metadata": {},
         "source": [
            "### Filter 2\n"
         ]
      },
      {
         "cell_type": "code",
         "execution_count": null,
         "metadata": {},
         "outputs": [],
         "source": [
            "DB2 = VectorDB()\n",
            "DB2.index(results1)"
         ]
      },
      {
         "cell_type": "code",
         "execution_count": null,
         "metadata": {},
         "outputs": [],
         "source": [
            "results2 = DB2.search(\"A bag is on the road\", 500)"
         ]
      },
      {
         "cell_type": "code",
         "execution_count": null,
         "metadata": {},
         "outputs": [],
         "source": [
            "visualize(results1[:50])"
         ]
      },
      {
         "cell_type": "markdown",
         "metadata": {},
         "source": [
            "## Test script with bert"
         ]
      },
      {
         "cell_type": "code",
         "execution_count": 92,
         "metadata": {},
         "outputs": [],
         "source": [
            "import re\n",
            "import faiss\n",
            "from transformers import BertTokenizer, BertModel\n",
            "from transformers import AutoTokenizer, AutoModel\n",
            "from sklearn.metrics.pairwise import cosine_similarity\n",
            "from utils import create_html_script, get_all_scripts"
         ]
      },
      {
         "cell_type": "code",
         "execution_count": 93,
         "metadata": {},
         "outputs": [
            {
               "data": {
                  "text/plain": [
                     "740"
                  ]
               },
               "execution_count": 93,
               "metadata": {},
               "output_type": "execute_result"
            }
         ],
         "source": [
            "list_script, documents = get_all_scripts()\n",
            "len(documents)"
         ]
      },
      {
         "cell_type": "code",
         "execution_count": 94,
         "metadata": {},
         "outputs": [
            {
               "name": "stderr",
               "output_type": "stream",
               "text": [
                  "Special tokens have been added in the vocabulary, make sure the associated word embeddings are fine-tuned or trained.\n"
               ]
            }
         ],
         "source": [
            "# Khởi tạo tokenizer và mô hình BERT\n",
            "model_name = \"vinai/phobert-base\"\n",
            "tokenizer = AutoTokenizer.from_pretrained(model_name)\n",
            "model = AutoModel.from_pretrained(model_name)"
         ]
      },
      {
         "cell_type": "code",
         "execution_count": 95,
         "metadata": {},
         "outputs": [
            {
               "data": {
                  "text/plain": [
                     "RobertaModel(\n",
                     "  (embeddings): RobertaEmbeddings(\n",
                     "    (word_embeddings): Embedding(64001, 768, padding_idx=1)\n",
                     "    (position_embeddings): Embedding(258, 768, padding_idx=1)\n",
                     "    (token_type_embeddings): Embedding(1, 768)\n",
                     "    (LayerNorm): LayerNorm((768,), eps=1e-05, elementwise_affine=True)\n",
                     "    (dropout): Dropout(p=0.1, inplace=False)\n",
                     "  )\n",
                     "  (encoder): RobertaEncoder(\n",
                     "    (layer): ModuleList(\n",
                     "      (0-11): 12 x RobertaLayer(\n",
                     "        (attention): RobertaAttention(\n",
                     "          (self): RobertaSelfAttention(\n",
                     "            (query): Linear(in_features=768, out_features=768, bias=True)\n",
                     "            (key): Linear(in_features=768, out_features=768, bias=True)\n",
                     "            (value): Linear(in_features=768, out_features=768, bias=True)\n",
                     "            (dropout): Dropout(p=0.1, inplace=False)\n",
                     "          )\n",
                     "          (output): RobertaSelfOutput(\n",
                     "            (dense): Linear(in_features=768, out_features=768, bias=True)\n",
                     "            (LayerNorm): LayerNorm((768,), eps=1e-05, elementwise_affine=True)\n",
                     "            (dropout): Dropout(p=0.1, inplace=False)\n",
                     "          )\n",
                     "        )\n",
                     "        (intermediate): RobertaIntermediate(\n",
                     "          (dense): Linear(in_features=768, out_features=3072, bias=True)\n",
                     "          (intermediate_act_fn): GELUActivation()\n",
                     "        )\n",
                     "        (output): RobertaOutput(\n",
                     "          (dense): Linear(in_features=3072, out_features=768, bias=True)\n",
                     "          (LayerNorm): LayerNorm((768,), eps=1e-05, elementwise_affine=True)\n",
                     "          (dropout): Dropout(p=0.1, inplace=False)\n",
                     "        )\n",
                     "      )\n",
                     "    )\n",
                     "  )\n",
                     "  (pooler): RobertaPooler(\n",
                     "    (dense): Linear(in_features=768, out_features=768, bias=True)\n",
                     "    (activation): Tanh()\n",
                     "  )\n",
                     ")"
                  ]
               },
               "execution_count": 95,
               "metadata": {},
               "output_type": "execute_result"
            }
         ],
         "source": [
            "device = torch.device(\"cuda\" if torch.cuda.is_available() else \"cpu\")\n",
            "model.to(device)"
         ]
      },
      {
         "cell_type": "code",
         "execution_count": 96,
         "metadata": {},
         "outputs": [],
         "source": [
            "def separate_paragraphs(script, max_word=128):\n",
            "    # Tách đoạn văn thành danh sách các từ\n",
            "    words = re.findall(r'\\b\\w+\\b', script)\n",
            "    \n",
            "    # Tính số lượng từ trong mỗi đoạn văn con\n",
            "    n_child_script = len(words) // max_word\n",
            "    \n",
            "    # Tạo danh sách các đoạn văn con\n",
            "    child_scripts = []\n",
            "    for i in range(n_child_script):\n",
            "        start = i * max_word\n",
            "        end = (i + 1) * max_word\n",
            "        if i == n_child_script - 1:\n",
            "            # Trường hợp cuối cùng, lấy tất cả từ còn lại\n",
            "            child_script = ' '.join(words[start:])\n",
            "        else:\n",
            "            child_script = ' '.join(words[start:end])\n",
            "        child_scripts.append(child_script)\n",
            "    \n",
            "    return child_scripts"
         ]
      },
      {
         "cell_type": "code",
         "execution_count": 97,
         "metadata": {},
         "outputs": [
            {
               "name": "stderr",
               "output_type": "stream",
               "text": [
                  "100%|████████████████████████████████████████████████████████████████████████████████████████████████████████████████████████████████████████████| 740/740 [09:03<00:00,  1.36it/s]\n"
               ]
            }
         ],
         "source": [
            "# WITH BERT\n",
            "document_embeddings = []\n",
            "name_parents = []\n",
            "for i, doc in enumerate(tqdm(documents)):\n",
            "    child_scripts = separate_paragraphs(doc)\n",
            "    for i_child, part in enumerate(child_scripts):\n",
            "        inputs = tokenizer(part, return_tensors=\"pt\", padding=True, truncation=True)\n",
            "        inputs = {key: value.to(device) for key, value in inputs.items()}  # Chuyển dữ liệu lên GPU\n",
            "        with torch.no_grad():\n",
            "            outputs = model(**inputs)\n",
            "        embeddings = outputs.last_hidden_state.mean(dim=1)  # Sử dụng trung bình của các embeddings từ BERT\n",
            "        document_embeddings.append(embeddings)\n",
            "        name_parents.append(list_script[i])"
         ]
      },
      {
         "cell_type": "code",
         "execution_count": 98,
         "metadata": {},
         "outputs": [
            {
               "name": "stdout",
               "output_type": "stream",
               "text": [
                  "(20147, 768)\n"
               ]
            }
         ],
         "source": [
            "np_document_embeddings = np.vstack([x.cpu().numpy() for x in document_embeddings])\n",
            "print(np_document_embeddings.shape)"
         ]
      },
      {
         "cell_type": "markdown",
         "metadata": {},
         "source": [
            "## Setup FAISS"
         ]
      },
      {
         "cell_type": "code",
         "execution_count": 99,
         "metadata": {},
         "outputs": [
            {
               "data": {
                  "text/plain": [
                     "768"
                  ]
               },
               "execution_count": 99,
               "metadata": {},
               "output_type": "execute_result"
            }
         ],
         "source": [
            "d = np_document_embeddings.shape[1]\n",
            "d"
         ]
      },
      {
         "cell_type": "code",
         "execution_count": 100,
         "metadata": {},
         "outputs": [
            {
               "data": {
                  "text/plain": [
                     "True"
                  ]
               },
               "execution_count": 100,
               "metadata": {},
               "output_type": "execute_result"
            }
         ],
         "source": [
            "index = faiss.IndexFlatL2(d)\n",
            "index.is_trained"
         ]
      },
      {
         "cell_type": "code",
         "execution_count": 101,
         "metadata": {},
         "outputs": [],
         "source": [
            "index.add(np_document_embeddings)"
         ]
      },
      {
         "cell_type": "markdown",
         "metadata": {},
         "source": [
            "#### Input keyword"
         ]
      },
      {
         "cell_type": "code",
         "execution_count": 102,
         "metadata": {},
         "outputs": [],
         "source": [
            "search_string = \"tông tai nạn gây thương tích\"\n",
            "search_inputs = tokenizer(search_string, return_tensors=\"pt\", padding=True, truncation=True)\n",
            "search_inputs = {key: value.to(device) for key, value in search_inputs.items()}  # Chuyển dữ liệu lên GPU\n",
            "with torch.no_grad():\n",
            "    search_outputs = model(**search_inputs)\n",
            "search_embedding = search_outputs.last_hidden_state.mean(dim=1)"
         ]
      },
      {
         "cell_type": "code",
         "execution_count": 103,
         "metadata": {},
         "outputs": [
            {
               "data": {
                  "text/plain": [
                     "(1, 768)"
                  ]
               },
               "execution_count": 103,
               "metadata": {},
               "output_type": "execute_result"
            }
         ],
         "source": [
            "search = search_embedding.cpu().numpy()\n",
            "search.shape"
         ]
      },
      {
         "cell_type": "code",
         "execution_count": 105,
         "metadata": {},
         "outputs": [
            {
               "data": {
                  "text/plain": [
                     "(1, 500)"
                  ]
               },
               "execution_count": 105,
               "metadata": {},
               "output_type": "execute_result"
            }
         ],
         "source": [
            "k = 500\n",
            "D, I = index.search(search, k)  # search\n",
            "I.shape"
         ]
      },
      {
         "cell_type": "code",
         "execution_count": 120,
         "metadata": {},
         "outputs": [
            {
               "data": {
                  "text/plain": [
                     "296"
                  ]
               },
               "execution_count": 120,
               "metadata": {},
               "output_type": "execute_result"
            }
         ],
         "source": [
            "top_videos = []\n",
            "for i in I[0]:\n",
            "    top_videos.append(name_parents[i][:-4])\n",
            "    \n",
            "top_videos = list(set(top_videos))\n",
            "len(top_videos)"
         ]
      },
      {
         "cell_type": "markdown",
         "metadata": {},
         "source": [
            "#### Create csv file"
         ]
      },
      {
         "cell_type": "code",
         "execution_count": 160,
         "metadata": {},
         "outputs": [],
         "source": [
            "'''\n",
            "file_name: tên của query\n",
            "list_frame: từ results1\n",
            "list_video: là list tên file video, có thể dùng BERT or cách thủ công của quí\n",
            "'''\n",
            "def create_csv(file_name, list_frame, list_video):\n",
            "    list_frame = FrameDocToImage(list_frame)\n",
            "    with open(file_name, 'w') as f:\n",
            "        for row in list_frame:\n",
            "            video = row[\"video\"]\n",
            "            if len(list_video) != 0 and video in list_video:\n",
            "                row_text = f\"{video}, {row['frame']}\\n\"\n",
            "                f.write(row_text)\n",
            "            elif len(list_video) == 0:\n",
            "                row_text = f\"{video}, {row['frame']}\\n\"\n",
            "                f.write(row_text)"
         ]
      },
      {
         "cell_type": "code",
         "execution_count": 161,
         "metadata": {},
         "outputs": [],
         "source": [
            "create_csv(\"test.csv\", results1[:100], top_videos)"
         ]
      },
      {
         "cell_type": "code",
         "execution_count": null,
         "metadata": {},
         "outputs": [],
         "source": []
      }
   ],
   "metadata": {
      "kernelspec": {
         "display_name": "Python 3 (ipykernel)",
         "language": "python",
         "name": "python3"
      },
      "language_info": {
         "codemirror_mode": {
            "name": "ipython",
            "version": 3
         },
         "file_extension": ".py",
         "mimetype": "text/x-python",
         "name": "python",
         "nbconvert_exporter": "python",
         "pygments_lexer": "ipython3",
         "version": "3.8.18"
      }
   },
   "nbformat": 4,
   "nbformat_minor": 2
}